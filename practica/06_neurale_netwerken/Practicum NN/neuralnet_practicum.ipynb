{
 "cells": [
  {
   "cell_type": "markdown",
   "id": "701cadee",
   "metadata": {},
   "source": [
    "# Practicum opdracht implementeren neural net"
   ]
  },
  {
   "cell_type": "markdown",
   "id": "267c511a",
   "metadata": {},
   "source": [
    "## Stap 1: definieren van de dataset\n",
    "\n",
    "We werken met een 3x3 rooster waarbinnen elk vakje zwart (1) of wit (0) kan zijn. We kunnen dus beginnen met het diefiniëren van de dataset. Als datatype gebruiken we lists om de roosters en waardes binnen de roosters te implementeren. Bij een 3x3 rooster zou een enkele lijst volstaan, maar voor de volledigheid wordt er gewerkt met een list-of-lists, waarbij elke sub-lijst een horizontale regel in het rooster is. "
   ]
  },
  {
   "cell_type": "code",
   "execution_count": 3,
   "id": "d55e3d7f",
   "metadata": {},
   "outputs": [],
   "source": [
    "import random"
   ]
  },
  {
   "cell_type": "code",
   "execution_count": 4,
   "id": "4693160e",
   "metadata": {},
   "outputs": [],
   "source": [
    "# Classes\n",
    "\n",
    "# 3 x 3 matrix\n",
    "\n",
    "# Een hele cirkel\n",
    "cirkel = [[1,1,1],\n",
    "          [1,0,1],\n",
    "          [1,1,1]]\n",
    "\n",
    "# Een recht kruis\n",
    "kruis_1 = [[0,1,0],\n",
    "           [1,1,1],\n",
    "           [0,1,0]]\n"
   ]
  },
  {
   "cell_type": "markdown",
   "id": "d0a3f633",
   "metadata": {},
   "source": [
    "<p>\n",
    "    labels staan in een predictionMatrix<br>\n",
    "    waarbij het eerste getal de score op cirkel<br> \n",
    "    en de tweede de score op kruis<br>\n",
    "    2 x 1 matrix<br>\n",
    "    [[scoreCirkel], [scoreKruis]]\n",
    "</p>    "
   ]
  },
  {
   "cell_type": "code",
   "execution_count": 5,
   "id": "a98b89dd",
   "metadata": {},
   "outputs": [
    {
     "name": "stdout",
     "output_type": "stream",
     "text": [
      "[[0.98], [0.83], [0.97], [0.22], [0.4], [0.4], [0.48], [0.21], [0.08]]\n"
     ]
    }
   ],
   "source": [
    "size = 9\n",
    "randomValue = round(random.uniform(0, 1), 2)\n",
    "weightMatrix = [[round(random.uniform(0, 1), 2)] for i in range(size)]\n",
    "print(weightMatrix)"
   ]
  },
  {
   "cell_type": "code",
   "execution_count": 40,
   "id": "cda9d7c2",
   "metadata": {},
   "outputs": [],
   "source": [
    "def initialize_bias():\n",
    "    # Matrixvermenigvuldiging van de getransponeerde platgemaakte inputMatrix\n",
    "    # en de weightMatrix       \n",
    "    return random.uniform(0, 1)\n",
    "\n",
    "# Initializeer bias en weightVector met random numbers tussen 0 en 1\n",
    "def initialize_weightMatrix(size):\n",
    "    # Matrixvermenigvuldiging van de getransponeerde platgemaakte inputMatrix\n",
    "    # en de weightMatrix       \n",
    "    # size x 1 vector\n",
    "\n",
    "    return [round(random.uniform(0, 1), 2) for i in range(size)]\n",
    "\n",
    "# Input: 3x3\n",
    "# Output: # 9 x 1\n",
    "def flatten(matrix):    \n",
    "    \n",
    "    # Create empty matrix\n",
    "    flat_matrix = []\n",
    "    # trainsform to 1*9\n",
    "    prep_matrix = matrix[0] + matrix[1] + matrix[2]\n",
    "\n",
    "    # convert to floats\n",
    "    for i in range(len(prep_matrix)):\n",
    "        prep_matrix[i] = float(prep_matrix[i])\n",
    "\n",
    "    # Transform to 9*1\n",
    "    for i in range(len(prep_matrix)):\n",
    "        flat_matrix.append([prep_matrix[i]])\n",
    "\n",
    "    return flat_matrix\n",
    "\n",
    "\n",
    "# Output: enkelwaardig resultaat\n",
    "# gewogen som \n",
    "def multiply(input_matrix, weight_matrix):\n",
    "    weighted_sum = 0\n",
    "    for i in range(len(input_matrix)):\n",
    "        weighted_sum = weighted_sum + (input_matrix[i][0] * weight_matrix[i])\n",
    "    return weighted_sum\n",
    "\n",
    "# Input: 3x3 matrix\n",
    "# Output: 2x1 matrix\n",
    "def classify(input_matrix):\n",
    "        \n",
    "    # Plat maken van de inputMatrix\n",
    "    # 3x3 -> 9x1\n",
    "    flat_matrix = flatten(input_matrix)\n",
    "    bias = initialize_bias()\n",
    "    print(f'Bias: {bias}')\n",
    "    weight_matrix = initialize_weightMatrix(len(flat_matrix))\n",
    "    print(f'Weight: {weight_matrix}')\n",
    "    \n",
    "     \n",
    "    predictionMatrix = multiply(flat_matrix, weight_matrix) + bias\n",
    "    \n",
    "    return predictionMatrix"
   ]
  },
  {
   "cell_type": "code",
   "execution_count": 52,
   "id": "233f7ab6",
   "metadata": {},
   "outputs": [
    {
     "name": "stdout",
     "output_type": "stream",
     "text": [
      "Bias: 0.9492452900027196\n",
      "Weight: [0.59, 0.77, 0.77, 0.15, 0.71, 0.48, 0.52, 0.55, 0.92]\n"
     ]
    },
    {
     "data": {
      "text/plain": [
       "5.69924529000272"
      ]
     },
     "execution_count": 52,
     "metadata": {},
     "output_type": "execute_result"
    }
   ],
   "source": [
    "# inputVector\n",
    "test_circle = [\n",
    "    [1,1,1],\n",
    "    [1,0,1],\n",
    "    [1,1,1]\n",
    "]\n",
    "\n",
    "\n",
    "#functie geeft 2x1 terug en accepteert 3x3 matrix\n",
    "classify(test_circle)"
   ]
  },
  {
   "cell_type": "code",
   "execution_count": 26,
   "id": "a084748b",
   "metadata": {},
   "outputs": [
    {
     "name": "stdout",
     "output_type": "stream",
     "text": [
      "1.0\n"
     ]
    }
   ],
   "source": [
    "test = flatten(test_circle)\n",
    "print(test[0][0])\n"
   ]
  },
  {
   "cell_type": "code",
   "execution_count": 20,
   "id": "6e23ca83",
   "metadata": {},
   "outputs": [
    {
     "data": {
      "text/plain": [
       "1.0"
      ]
     },
     "execution_count": 20,
     "metadata": {},
     "output_type": "execute_result"
    }
   ],
   "source": []
  }
 ],
 "metadata": {
  "kernelspec": {
   "display_name": "Python 3 (ipykernel)",
   "language": "python",
   "name": "python3"
  },
  "language_info": {
   "codemirror_mode": {
    "name": "ipython",
    "version": 3
   },
   "file_extension": ".py",
   "mimetype": "text/x-python",
   "name": "python",
   "nbconvert_exporter": "python",
   "pygments_lexer": "ipython3",
   "version": "3.10.10"
  }
 },
 "nbformat": 4,
 "nbformat_minor": 5
}
