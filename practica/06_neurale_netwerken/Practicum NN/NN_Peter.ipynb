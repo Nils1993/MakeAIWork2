{
 "cells": [
  {
   "cell_type": "markdown",
   "id": "701cadee",
   "metadata": {},
   "source": [
    "# Practicum opdracht implementeren neural net\n",
    "\n",
    "- inputMatrix * weightMatrix + bias\n",
    "- outputMatrix (2 x 1) geeft kruisje of rondje\n",
    "- softmax toevoegen: uitslag tussen 0 en 1 voor beide velden in de outputMatrix\n",
    "- trainen met 4 x goede inputMatrix met bijbehorende 4 x gelabelde outPutMatrix\n",
    "- trainen in epochs: met en zonder learningRate (met is als GD)\n",
    "- resultaten opslaan en beste resultaat kiezen adhv GradientDescent (MSE, RMSE) -> cross entropy is beter als loss voor een classificatie probleem\n",
    "- testen met getraind netwerk en zowel goede als gemankeerde inputMatrix\n",
    "- optioneel: extra hidden layer en/of backpropagation toevoegen\n",
    "- eventueel terug naar trainen als yhat nog niet optimaal\n"
   ]
  },
  {
   "cell_type": "markdown",
   "id": "267c511a",
   "metadata": {},
   "source": [
    "## Stap 1: definieren van de dataset\n",
    "\n",
    "We werken met een 3x3 rooster waarbinnen elk vakje zwart (1) of wit (0) kan zijn. We kunnen dus beginnen met het diefiniëren van de dataset. Als datatype gebruiken we lists om de roosters en waardes binnen de roosters te implementeren. Bij een 3x3 rooster zou een enkele lijst volstaan, maar voor de volledigheid wordt er gewerkt met een list-of-lists, waarbij elke sub-lijst een horizontale regel in het rooster is. "
   ]
  },
  {
   "cell_type": "code",
   "execution_count": 117,
   "id": "d55e3d7f",
   "metadata": {},
   "outputs": [],
   "source": [
    "import random\n"
   ]
  },
  {
   "cell_type": "code",
   "execution_count": 118,
   "id": "4693160e",
   "metadata": {},
   "outputs": [],
   "source": [
    "# Classes\n",
    "\n",
    "# 3 x 3 matrix met vier mogelijke goede inputs\n",
    "\n",
    "# Een hele cirkel\n",
    "cirkel_1 = [[1,1,1],\n",
    "          [1,0,1],\n",
    "          [1,1,1]]\n",
    "\n",
    "# Een diamantvormige cirkel\n",
    "cirkel_2 = [[0,1,0],\n",
    "          [1,0,1],\n",
    "          [0,1,0]]\n",
    "\n",
    "# Een recht kruis\n",
    "kruis_2 = [[0,1,0],\n",
    "           [1,1,1],\n",
    "           [0,1,0]]\n",
    "\n",
    "# Een X-kruis\n",
    "kruis_1 = [[1,0,1],\n",
    "           [0,1,0],\n",
    "           [1,0,1]]\n",
    "\n",
    "inputShapes = [cirkel_1, cirkel_2, kruis_1, kruis_2]\n",
    "\n",
    "outputLabels = [[1,0],[1,0],[0,1],[0,1]]\n",
    "\n",
    "# print(list[inputShapes])"
   ]
  },
  {
   "cell_type": "code",
   "execution_count": 119,
   "id": "1ba7b9eb-21c1-473f-8bfe-ca10329eae28",
   "metadata": {},
   "outputs": [],
   "source": [
    "# inputMatrix = kruis_2"
   ]
  },
  {
   "cell_type": "markdown",
   "id": "d0a3f633",
   "metadata": {},
   "source": [
    "<p>\n",
    "    labels staan in een predictionMatrix<br>\n",
    "    waarbij het eerste getal de score op cirkel<br> \n",
    "    en de tweede de score op kruis<br>\n",
    "    2 x 1 matrix<br>\n",
    "    [[scoreCirkel], [scoreKruis]]\n",
    "</p>    "
   ]
  },
  {
   "cell_type": "code",
   "execution_count": 120,
   "id": "841c9de1",
   "metadata": {},
   "outputs": [],
   "source": [
    "# a = random.uniform(0, 1)\n",
    "# b = random.uniform(0, 1)\n",
    "# type((a, b))"
   ]
  },
  {
   "cell_type": "code",
   "execution_count": 121,
   "id": "a98b89dd",
   "metadata": {},
   "outputs": [],
   "source": [
    "\n",
    "# randomValue = round(random.uniform(0, 1), 2)\n",
    "# weightMatrix = [[round(random.uniform(0, 1), 2)] for i in range(size)]\n",
    "# print(weightMatrix)"
   ]
  },
  {
   "cell_type": "code",
   "execution_count": 122,
   "id": "cda9d7c2",
   "metadata": {},
   "outputs": [],
   "source": [
    "# Initializeer bias en weightVector met random numbers tussen 0 en 1\n",
    "\n",
    "def initializeBias(biasSize):\n",
    "    # Generate random bias\n",
    "    # return [round(random.uniform(0, 1), 2) for i in range(biasSize)]\n",
    "    biasVector = [round(random.uniform(0, 1), 2) for i in range(biasSize)]\n",
    "    return biasVector\n",
    "\n",
    "# Input: 3x3\n",
    "# Output: # 9 x 1\n",
    "def flatten(matrix):\n",
    "    # flatMatrix = [item for sub_list in matrix for item in sub_list]\n",
    "    flatMatrix = [item for sub_list in matrix for item in sub_list]\n",
    "    return flatMatrix\n",
    "\n",
    "# matrix = kruis_2\n",
    "# print(flatten(kruis_2))\n",
    "\n",
    "def initializeWeightMatrix(weightSize):\n",
    "    return [round(random.uniform(0, 1), 2) for i in range(weightSize)]\n",
    "\n",
    "# Output: enkelwaardig resultaat\n",
    "# gewogen som \n",
    "def multiply(flatMatrix, weightMatrix):\n",
    "    weightedSum = 0\n",
    "    for i in range(len(flatMatrix)):\n",
    "        weightedSum += flatMatrix[i] * weightMatrix[i]\n",
    "    return weightedSum\n",
    "\n",
    "\n",
    "# add softmax on output 1 and 2\n",
    "def softmax(output0, output1):\n",
    "    e = 2.718281828459045\n",
    "\n",
    "    softmax_output0 = e ** output0 / (e ** output0 + e ** output1)\n",
    "    softmax_output1 = e ** output1 / (e ** output0 + e ** output1)\n",
    "\n",
    "    return [softmax_output0, softmax_output1]\n",
    "\n",
    "# def predict(inputMatrix):\n",
    "def predict(inputShapes):\n",
    "    \n",
    "    inputVector = flatten(inputShapes)\n",
    "    \n",
    "    output0 = multiply(inputVector, weightVector0) + biasVector[0]\n",
    "    output1 = multiply(inputVector, weightVector1) + biasVector[1]\n",
    "\n",
    "    predictions = softmax(output0, output1)\n",
    "    return predictions\n",
    "\n",
    "def gradientDescent(inputShapes, outputLabels):\n",
    "    # (inputShapes, outputLabels: X,Y)\n",
    "# stochastic (= per sample) of alle samples (= gemiddelde van een aantal samples of een deel van de hele set (= batch)\n",
    "# hier kiezen we per sample\n",
    "    for i in range(len(outputLabels)):\n",
    "        Yhats = predict(inputShapes[i])\n",
    "        error0 = outputLabels[i][0] - Yhats[0]\n",
    "        error1 = outputLabels[i][1] - Yhats[1]\n",
    "        \n",
    "        # input\n",
    "        dw0 = -2 * error0 * flatten(inputShapes[i])[0]\n",
    "        dw1 = -2 * error0 * flatten(inputShapes[i])[1]\n",
    "        dw2 = -2 * error0 * flatten(inputShapes[i])[2]\n",
    "        dw3 = -2 * error0 * flatten(inputShapes[i])[3]\n",
    "        dw4 = -2 * error0 * flatten(inputShapes[i])[4]\n",
    "        dw5 = -2 * error0 * flatten(inputShapes[i])[5]\n",
    "        dw6 = -2 * error0 * flatten(inputShapes[i])[6]\n",
    "        dw7 = -2 * error0 * flatten(inputShapes[i])[7]\n",
    "        dw8 = -2 * error0 * flatten(inputShapes[i])[8]\n",
    "        db = -2 * error0\n",
    "        weightVector0[0] -= learnRate * dw0\n",
    "        weightVector0[1] -= learnRate * dw1\n",
    "        weightVector0[2] -= learnRate * dw2\n",
    "        weightVector0[3] -= learnRate * dw3\n",
    "        weightVector0[4] -= learnRate * dw4\n",
    "        weightVector0[5] -= learnRate * dw5\n",
    "        weightVector0[6] -= learnRate * dw6\n",
    "        weightVector0[7] -= learnRate * dw7\n",
    "        weightVector0[8] -= learnRate * dw8\n",
    "        biasVector[0] -= learnRate * db\n",
    "        \n",
    "        dw0 = -2 * error1 * flatten(inputShapes[i])[0]\n",
    "        dw1 = -2 * error1 * flatten(inputShapes[i])[1]\n",
    "        dw2 = -2 * error1 * flatten(inputShapes[i])[2]\n",
    "        dw3 = -2 * error1 * flatten(inputShapes[i])[3]\n",
    "        dw4 = -2 * error1 * flatten(inputShapes[i])[4]\n",
    "        dw5 = -2 * error1 * flatten(inputShapes[i])[5]\n",
    "        dw6 = -2 * error1* flatten(inputShapes[i])[6]\n",
    "        dw7 = -2 * error1 * flatten(inputShapes[i])[7]\n",
    "        dw8 = -2 * error1 * flatten(inputShapes[i])[8]\n",
    "        db = -2 * error1\n",
    "        weightVector1[0] -= learnRate * dw0\n",
    "        weightVector1[1] -= learnRate * dw1\n",
    "        weightVector1[2] -= learnRate * dw2\n",
    "        weightVector1[3] -= learnRate * dw3\n",
    "        weightVector1[4] -= learnRate * dw4\n",
    "        weightVector1[5] -= learnRate * dw5\n",
    "        weightVector1[6] -= learnRate * dw6\n",
    "        weightVector1[7] -= learnRate * dw7\n",
    "        weightVector1[8] -= learnRate * dw8\n",
    "        biasVector[1] -= learnRate * db\n",
    "        \n",
    "def MSE(InputShapes, OutputLabels):\n",
    "    loss = 0\n",
    "    for i in range(len(outputLabels)):\n",
    "        Yhats = predict(inputShapes[i])\n",
    "        error0 = outputLabels[i][0] - Yhats[0]\n",
    "        error1 = outputLabels[i][1] - Yhats[1]\n",
    "        \n",
    "        loss += error0**2 + error1**2\n",
    "        \n",
    "    return loss / len(outputLabels)\n",
    "\n"
   ]
  },
  {
   "cell_type": "code",
   "execution_count": 123,
   "id": "d6905d18-75eb-4ac8-8751-a4eccf7ee69b",
   "metadata": {},
   "outputs": [],
   "source": [
    "# Yhats = predict(inputShapes[0])\n",
    "# print(Yhats)"
   ]
  },
  {
   "cell_type": "code",
   "execution_count": 124,
   "id": "6488bfac-de58-4a8a-9b9b-616999282aa0",
   "metadata": {},
   "outputs": [
    {
     "name": "stdout",
     "output_type": "stream",
     "text": [
      "[-0.3090013796605105, 0.7490013796605114]\n"
     ]
    }
   ],
   "source": [
    "# random.seed(42)\n",
    "\n",
    "learnRate = 0.01\n",
    "epochs = 1000\n",
    "\n",
    "weightVector0 = initializeWeightMatrix(9)\n",
    "weightVector1 = initializeWeightMatrix(9)\n",
    "# bias0 en bias1 zitten hier al in een lijst\n",
    "biasVector = initializeBias(2)\n",
    "\n",
    "for epoch in range(epochs):\n",
    "    gradientDescent(inputShapes, outputLabels)\n",
    "    # print(MSE(inputShapes, outputLabels))\n",
    "\n",
    "print(biasVector)"
   ]
  },
  {
   "cell_type": "code",
   "execution_count": 125,
   "id": "6ec2d494-0df5-4a95-9d57-d9ef26ae539e",
   "metadata": {},
   "outputs": [
    {
     "data": {
      "text/plain": [
       "[0.9580911278335681, 0.041908872166431965]"
      ]
     },
     "execution_count": 125,
     "metadata": {},
     "output_type": "execute_result"
    }
   ],
   "source": [
    "predict(inputShapes[1])"
   ]
  },
  {
   "cell_type": "code",
   "execution_count": null,
   "id": "a1613693-2d75-4ff7-b73e-cc67e997db9d",
   "metadata": {},
   "outputs": [],
   "source": []
  }
 ],
 "metadata": {
  "kernelspec": {
   "display_name": "Python 3 (ipykernel)",
   "language": "python",
   "name": "python3"
  },
  "language_info": {
   "codemirror_mode": {
    "name": "ipython",
    "version": 3
   },
   "file_extension": ".py",
   "mimetype": "text/x-python",
   "name": "python",
   "nbconvert_exporter": "python",
   "pygments_lexer": "ipython3",
   "version": "3.11.2"
  }
 },
 "nbformat": 4,
 "nbformat_minor": 5
}
