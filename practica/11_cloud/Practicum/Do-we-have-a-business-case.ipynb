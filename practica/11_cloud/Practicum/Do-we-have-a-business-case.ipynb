{
 "cells": [
  {
   "attachments": {},
   "cell_type": "markdown",
   "id": "3b4d02d6-8b5a-486f-94ca-2f8d8ae9cdff",
   "metadata": {},
   "source": [
    "# Do we have a business case?"
   ]
  },
  {
   "attachments": {},
   "cell_type": "markdown",
   "id": "3e612b16-9823-46e7-ab4e-01f0d3c71d26",
   "metadata": {
    "jp-MarkdownHeadingCollapsed": true,
    "tags": []
   },
   "source": [
    "## Bronnen\n",
    "\n",
    "**Geschiedenis PostNL**\n",
    "\n",
    "- https://www.postnl.nl/over-postnl/over-ons/geschiedenis\n",
    "\n",
    "\n",
    "**Brievenbuspost**\n",
    "\n",
    "- https://www.acm.nl/nl/publicaties/acm-omzet-uit-brievenbuspost-2021-voor-het-eerst-jaren-gestegen\n",
    "\n",
    "**MNIST Digit Classifier using PyTorch**\n",
    "\n",
    "- https://tomytjandra.github.io/blogs/python/classification/computer-vision/pytorch/2021/08/27/mnist-digit-pytorch.html\n",
    "\n",
    "**3blue1brown: But what is a neural network?**\n",
    "\n",
    "- https://www.youtube.com/watch?v=aircAruvnKk"
   ]
  },
  {
   "attachments": {},
   "cell_type": "markdown",
   "id": "b4608609-be9e-49ad-836d-799afc799796",
   "metadata": {
    "tags": []
   },
   "source": [
    "## Context\n",
    "\n",
    "We schrijven het jaar 1990, het (fictieve) jaar waarin PTT Post aankondigt om over te stappen op het automatisch scannen van postcodes. De startup FastScan heeft een prototype waarmee ze postcodes kunnen scannen op grote snelheid.\n",
    "\n",
    "Namens de startup FastScan krijgen we de opdracht om te onderzoeken of dit een business case voor hen is. Ze verwachten van ons een gedegen onderzoek en vragen ons om de case samen te vatten."
   ]
  },
  {
   "attachments": {},
   "cell_type": "markdown",
   "id": "48611a47-0eae-4f77-88fa-fce5da1b1314",
   "metadata": {},
   "source": [
    "## Opdrachten"
   ]
  },
  {
   "attachments": {},
   "cell_type": "markdown",
   "id": "02f8d210-a52c-47ba-a800-a5e304f346d8",
   "metadata": {},
   "source": [
    "### Opdracht 1: Voorbereiding\n",
    "\n",
    "FastScan heeft een Notebook voor ons klaargezet om onze research mee te starten."
   ]
  },
  {
   "cell_type": "code",
   "execution_count": 2,
   "id": "29de8653-15d9-4ef8-9c30-a65fe33e972e",
   "metadata": {
    "tags": []
   },
   "outputs": [],
   "source": [
    "# a. Open het Notebook 2021-08-27-mnist-digit-pytorch.ipynb\n",
    "\n",
    "# b. Check het kopje 'Installation' of je alle onderdelen geinstalleerd hebt\n",
    "\n",
    "# c. Draai de cel 'Libraries' en installeer eventueel ontbrekende onderdelen\n",
    "\n",
    "# d. Bekijk het kopje 'Workflow' om een beeld te krijgen van het proces"
   ]
  },
  {
   "attachments": {},
   "cell_type": "markdown",
   "id": "8fe72fef-a0cf-4861-ab96-e7b83586256e",
   "metadata": {},
   "source": [
    "### Opdracht 2: Data inlezen en visualiseren\n",
    "\n",
    "FastScan heeft het ons makkelijk gemaakt. De afbeeldingen van handgeschreven getallen staan in een aantal csv-bestanden die we kunnen inlezen en kunnen visualiseren.\n",
    "\n",
    "- Let op: het is niet noodzakelijk om alle details te begrijpen, maar wel de grote lijn\n",
    "\n",
    "Vraag om hulp als dit niet lukt."
   ]
  },
  {
   "cell_type": "code",
   "execution_count": 3,
   "id": "1e0d1235-811d-4807-952a-b2f7929f6d13",
   "metadata": {
    "tags": []
   },
   "outputs": [],
   "source": [
    "# a. Doorloop de stappen van 'Load Data'\n",
    "\n",
    "# b. Doorloop de stappen van 'Visualize Data'"
   ]
  },
  {
   "attachments": {},
   "cell_type": "markdown",
   "id": "44782458-5bd3-4c99-9b27-ca9781d77499",
   "metadata": {},
   "source": [
    "### Opdracht 3: Trainen en valideren\n",
    "\n",
    "FastScan heeft uitvoerig beschreven hoe we hun model kunnen trainen en kunnen valideren.\n",
    "\n",
    "- Let op: het is niet noodzakelijk om alle details te begrijpen, maar wel de grote lijn\n",
    "\n",
    "Vraag om hulp als dit niet lukt.\n",
    "\n",
    "- Fun fact: het fully-connected neurale netwerk dat FastScan heeft gebouwd voldoet geheel aan visualisatie van 3blue1brown. Kijk dit eventueel terug om meer grip te krijgen om het netwerk van FastScan."
   ]
  },
  {
   "cell_type": "code",
   "execution_count": null,
   "id": "1de46ca9-9f39-4574-bc8a-1cfef87f529e",
   "metadata": {},
   "outputs": [],
   "source": [
    "# a. Doorloop de stappen van 'Define Model Architecture'\n",
    "\n",
    "# b. Doorloop de stappen van 'Train the Model'\n",
    "\n",
    "# c. Doorloop de stappen van 'Test the Model'\n",
    "\n",
    "# d. Check dat het model opgeslagen is in ./cache/model-mnist-digit.pt"
   ]
  },
  {
   "attachments": {},
   "cell_type": "markdown",
   "id": "bae087e3-0b5a-4275-9bf1-16b8cca1a4b3",
   "metadata": {},
   "source": [
    "### Opdracht 4: Accuracy\n",
    "\n",
    "Het models van FastScan heeft een accuracy van 97%. Dat klinkt hoog maar heeft dit business value?\n",
    "\n",
    "Tijd voor een eerste analyse!"
   ]
  },
  {
   "cell_type": "code",
   "execution_count": 9,
   "id": "dc3b6f53-2a43-494c-afdf-c95e5d6293e1",
   "metadata": {
    "tags": []
   },
   "outputs": [],
   "source": [
    "# a. Voor de zekerheid: wat is de definitie van accuracy?\n",
    "#   de vergelijking van het antwoord van het model met de goede antwoorden.\n",
    "\n",
    "# b. Lees het ACM artikel over de brievenbuspost\n",
    "\n",
    "#    - Hoeveel brievenbuspost wordt er per jaar in totaal verstuurd?\n",
    "#   rond de 2 miljard\n",
    "\n",
    "# c. Hoeveel postcodes (en dus brieven) worden er bij een accuracy van 97% correct gelezen?\n",
    "\n",
    "#    - Hint: hoeveel nummers bevat een postcode?\n",
    "#   4\n",
    "\n",
    "#    - Gebruik verder dat de verwachtingswaarde = kans op succes x aantal\n",
    "#   0.97*0.97*0.97*0.97 = 0.88529281 -> 89%\n",
    "\n",
    "#   2.000,000,000 * 0.89 = 1,780,000,000\n",
    "\n",
    "# d. En hoeveel dus incorrect?\n",
    "#   220,000,000\n",
    "\n",
    "# e. PPT Post eist dat slechts 1% van de brieven foutief gelezen mag worden\n",
    "#   1% = 20,000,000\n",
    "\n",
    "#   - Hoeveel moet de accuracy van ons model dan worden?\n",
    "#   100%\n",
    "\n",
    "# f. Check eens online wat de hoogste accuracy op deze dataset is\n",
    "#  99.41% is het hoogst wat ik gevonden heb op https://towardsdatascience.com/going-beyond-99-mnist-handwritten-digits-recognition-cfff96337392\n",
    "\n",
    "#   - Voldoet dat model aan de PTT Post eis?\n",
    "#   0.9941 * 0.9941 * 0.9941 * 0.9941 = 0.9766080396957361 -> dus nee.\n"
   ]
  },
  {
   "attachments": {},
   "cell_type": "markdown",
   "id": "aa36ae80-031c-4ff0-ae85-ba9427150925",
   "metadata": {},
   "source": [
    "### Opdracht 5: Compute tijd en kosten\n",
    "\n",
    "We zijn klaar voor een tweede analyse: de compute time.\n",
    "\n",
    "Oftewel: hoeveel tijd kost het om met het model voorspellingen te doen."
   ]
  },
  {
   "cell_type": "code",
   "execution_count": 5,
   "id": "69d2f4e3-129a-45ab-aa21-c41c8771544e",
   "metadata": {
    "tags": []
   },
   "outputs": [
    {
     "ename": "AttributeError",
     "evalue": "'dict' object has no attribute 'load_state_dict'",
     "output_type": "error",
     "traceback": [
      "\u001b[1;31m---------------------------------------------------------------------------\u001b[0m",
      "\u001b[1;31mAttributeError\u001b[0m                            Traceback (most recent call last)",
      "Cell \u001b[1;32mIn[5], line 19\u001b[0m\n\u001b[0;32m     16\u001b[0m     history \u001b[39m=\u001b[39m pickle\u001b[39m.\u001b[39mload(f)\n\u001b[0;32m     18\u001b[0m \u001b[39m# load the best model\u001b[39;00m\n\u001b[1;32m---> 19\u001b[0m model\u001b[39m.\u001b[39;49mload_state_dict(torch\u001b[39m.\u001b[39mload(\u001b[39m'\u001b[39m\u001b[39m./cache/model-mnist-digit.pt\u001b[39m\u001b[39m'\u001b[39m))\n\u001b[0;32m     21\u001b[0m \u001b[39m#    - Zet het model in evaluate mode met de eval() functie\u001b[39;00m\n\u001b[0;32m     22\u001b[0m y_test \u001b[39m=\u001b[39m []\n",
      "\u001b[1;31mAttributeError\u001b[0m: 'dict' object has no attribute 'load_state_dict'"
     ]
    }
   ],
   "source": [
    "# a. Laad het opgeslagen model in (zoek in het Notebook hoe dit werkt)\n",
    "import pandas as pd  # for read_csv\n",
    "import numpy as np  # for np.Inf\n",
    "import matplotlib.pyplot as plt  # visualization\n",
    "import seaborn as sns  # heatmap visualization\n",
    "from sklearn.metrics import confusion_matrix, classification_report  # evaluation metrics\n",
    "import pickle  # serialization\n",
    "\n",
    "import torch\n",
    "from torch.utils.data import Dataset, DataLoader, random_split\n",
    "import torch.nn as nn\n",
    "import torch.nn.functional as F\n",
    "import torch.optim as optim\n",
    "\n",
    "with open('./cache/history-mnist-digit.pickle', 'rb') as f:\n",
    "    history = pickle.load(f)\n",
    "\n",
    "# load the best model\n",
    "model.load_state_dict(torch.load('./cache/model-mnist-digit.pt'))\n",
    "\n",
    "#    - Zet het model in evaluate mode met de eval() functie\n",
    "y_test = []\n",
    "y_pred = []\n",
    "\n",
    "# disable gradient calculation\n",
    "with torch.no_grad():\n",
    "    # prepare model for evaluation\n",
    "    model.eval()\n",
    "\n",
    "    # loop for each data\n",
    "    for data, target in test_loader:\n",
    "        # STEP 1: forward pass\n",
    "        output = model(data)\n",
    "        # STEP 2: get predicted label\n",
    "        _, label = torch.max(output, dim=1)\n",
    "        # STEP 3: append actual and predicted label\n",
    "        y_test += target.numpy().tolist()\n",
    "        y_pred += label.numpy().tolist()\n",
    "#      Hier niet noodzakelijk maar wel in de meeste gevallen:\n",
    "\n",
    "#     \"Remember that you must call model.eval() to set dropout and\n",
    "#      batch normalization layers to evaluation mode before running inference.\n",
    "#      Failing to do this will yield inconsistent inference results.\"\n",
    "\n",
    "#      Bron: https://pytorch.org/tutorials/beginner/saving_loading_models.html#save-load-entire-model\n",
    "\n",
    "# b. Laad de test dataset 'test.csv' in (zoek in het Notebook hoe dit werkt)\n",
    "class MNISTDataset(Dataset):\n",
    "    # constructor\n",
    "    def __init__(self, file_path):\n",
    "        # read data\n",
    "        df = pd.read_csv(file_path)\n",
    "\n",
    "        target_col = \"label\"\n",
    "        self.label_exist = target_col in df.columns\n",
    "\n",
    "        if self.label_exist:\n",
    "            # split feature-target\n",
    "            X = df.drop(columns=target_col).values\n",
    "            y = df[target_col].values\n",
    "\n",
    "            # convert numpy array to tensor\n",
    "            self.y = torch.tensor(y)\n",
    "        else:\n",
    "            X = df.values\n",
    "\n",
    "        self.X = torch.tensor(X, dtype=torch.float32)\n",
    "\n",
    "        # scaling\n",
    "        self.X /= 255\n",
    "\n",
    "    # for iteration\n",
    "    def __getitem__(self, idx):\n",
    "        if self.label_exist:\n",
    "            return self.X[idx], self.y[idx]\n",
    "        else:\n",
    "            return self.X[idx]\n",
    "\n",
    "    # to check num of observations\n",
    "    def __len__(self):\n",
    "        return self.X.size()[0]\n",
    "# load test.csv\n",
    "mnist_data_unlabeled = MNISTDataset(\"./mnist/test.csv\")\n",
    "unlabeled_loader = DataLoader(mnist_data_unlabeled, batch_size=1, shuffle=True)\n",
    "\n",
    "print(mnist_data_unlabeled.X.size())\n",
    "\n",
    "#    - Zet de batch size op 1 zodat we de afbeeldingen één voor één kunnen doorlopen\n",
    "\n",
    "# c. Doorloop de test set eenmaal en meet hoeveel tijd 1000 inferences gemiddeld kosten\n",
    "\n",
    "import time\n",
    "# loop data\n",
    "start = time.time()\n",
    "for idx in range(1):\n",
    "    start2 = time.time()\n",
    "    # get image from loader\n",
    "    image = next(iter(unlabeled_loader))\n",
    "    image = image.reshape((28, 28))\n",
    "\n",
    "    ##############\n",
    "    # prediction #\n",
    "    ##############\n",
    "\n",
    "    with torch.no_grad():\n",
    "        # forward pass\n",
    "        output = model(image.reshape(1, -1))\n",
    "        # calculate probability\n",
    "        prob = F.softmax(output, dim=1)\n",
    "\n",
    "    #################\n",
    "    # visualization #\n",
    "    #################\n",
    "\n",
    "    fig, axes = plt.subplots(1, 2, figsize=(8, 4))\n",
    "\n",
    "    # show digit image\n",
    "    axes[0].imshow(image, cmap=\"gray\")\n",
    "    axes[0].axis(\"off\")\n",
    "\n",
    "    # predicted probability barplot\n",
    "    axes[1].barh(range(0, 10), prob.reshape(-1))\n",
    "    axes[1].invert_yaxis()\n",
    "    axes[1].set_yticks(range(0, 10))\n",
    "    axes[1].set_xlabel(\"Predicted Probability\")\n",
    "\n",
    "    plt.tight_layout()\n",
    "    plt.show()\n",
    "\n",
    "    end2 = time.time()\n",
    "    print(end2 - start2)\n",
    "\n",
    "end = time.time()\n",
    "print(end - start)\n",
    "\n",
    "#    - Met welke module kun je tijdmetingen doen?\n",
    "#   met de module time\n",
    "\n",
    "#    - Zoek in het Noteboek hoe je een forward pass uitvoert met het model\n",
    "\n",
    "# d. Lees nogmaals het ACM artikel over de brievenbuspost\n",
    "\n",
    "#    - Hoeveel brievenbuspost wordt er per jaar in totaal verstuurd?\n",
    "\n",
    "#    - Hoeveel is dat per dag?\n",
    "\n",
    "#    - Hoeveel nummer scans zijn dat?\n",
    "\n",
    "#    - Hoeveel tijd kost het ons om dat met 1 CPU uit te voeren?\n",
    "\n",
    "# e. Stel PTT Post verwacht dat we de scans binnen 1 uur moeten uitvoeren:\n",
    "\n",
    "#    - Gaat dit lukken?\n",
    "\n",
    "# f. Dit is een zeer versimpelde voorstelling van zaken.\n",
    "\n",
    "#    - Welke praktische factoren zouden we ook mee moeten nemen?\n",
    "\n",
    "#    - Hint: maak een voorstelling hoe we de scans op brieven en pakketen zouden uitvoeren\n",
    "\n",
    "# g. Stel dat we een factor 100_000 te laag zitten\n",
    "\n",
    "#   - Hoeveel tijd hebben we dan nodig voor een dag brievenbuspost?\n",
    "\n",
    "# h. Stel dat we het proces met een factor 100 moeten versnellen:\n",
    "\n",
    "#   - Hoe zouden we dat kunnen doen zonder een GPU te gebruiken?"
   ]
  },
  {
   "attachments": {},
   "cell_type": "markdown",
   "id": "5ca8c3ec-4bc6-4a84-bc5d-36470f4cdae6",
   "metadata": {},
   "source": [
    "Om onze compute te hosten hebben we meerdere opties:\n",
    "\n",
    "- Self hosting (wij beheren de servers)\n",
    "- Cloud functions (geen beheer)\n",
    "\n",
    "Hieronder een aantal self hosting opties:\n",
    "\n",
    "- Vultr: https://www.vultr.com/pricing/#optimized-cloud-compute\n",
    "- Paperspace: https://www.paperspace.com/pricing"
   ]
  },
  {
   "cell_type": "code",
   "execution_count": 12,
   "id": "7154b4d8-6dfc-4956-9295-52bf1c48ae8f",
   "metadata": {
    "tags": []
   },
   "outputs": [],
   "source": [
    "# i. Kijk eens wat de CPU compute kosten zijn bij Vultr en Paperspace\n",
    "\n",
    "# j. Zijn ze te makkelijk te vergelijken?\n",
    "\n",
    "# k. Hoe zouden we een eerlijke vergelijking kunnen maken?\n",
    "\n",
    "#    - Hit: zie opdracht 5c\n",
    "\n",
    "# l. Zouden we op die manier ook de kosten kunnen ramen?"
   ]
  },
  {
   "attachments": {},
   "cell_type": "markdown",
   "id": "b7da7728-42d6-4fce-a856-1940ffe48eae",
   "metadata": {},
   "source": [
    "Google Compute functions zijn een voorbeeld van het aanroepen van puur een functie,\n",
    "\n",
    "bijvoorbeeld voor de inference van ons model. Bekijk dit rekenvoorbeeld eens:\n",
    "\n",
    "- https://cloud.google.com/functions/pricing#high_volume_http_function"
   ]
  },
  {
   "cell_type": "code",
   "execution_count": 11,
   "id": "7657d8d5-a078-4397-ac07-5e9b6492bba4",
   "metadata": {
    "tags": []
   },
   "outputs": [],
   "source": [
    "# m. Hoeveel zouden de kosten voor ons zijn als we dit rekenvoorbeeld volgen?\n",
    "\n",
    "# n. De kosten zijn een stuk hoger dan wanneer we self hosting toepassen\n",
    "\n",
    "#    - Zoek eens op wat een gemiddelde systeembeheerder kost per jaar\n",
    "\n",
    "#    - Als je die kosten meeneemt, moeten we dan self hosting of cloud functions gebruiken?"
   ]
  },
  {
   "attachments": {},
   "cell_type": "markdown",
   "id": "2ddd0d56-a636-4a5d-826b-c079fb09c2df",
   "metadata": {},
   "source": [
    "## Conclusie\n",
    "\n",
    "Er komt veel kijken bij het analyseren van een business case voor postcode scans. We zouden nog mee moeten nemen:\n",
    "\n",
    "- Wat de personeelskosten van FastScan totaal zijn\n",
    "- Wat de kostenbesparing voor PTT Post is bij verschillende accuracies\n",
    "- ...\n",
    "\n",
    "Op basis van bovenstaande analyse hebben we wel meer inzicht verkregen, maar we zijn verre van compleet.\n",
    "\n",
    "Kunnen we wel iets van advies geven?"
   ]
  }
 ],
 "metadata": {
  "kernelspec": {
   "display_name": "Python 3 (ipykernel)",
   "language": "python",
   "name": "python3"
  },
  "language_info": {
   "codemirror_mode": {
    "name": "ipython",
    "version": 3
   },
   "file_extension": ".py",
   "mimetype": "text/x-python",
   "name": "python",
   "nbconvert_exporter": "python",
   "pygments_lexer": "ipython3",
   "version": "3.10.11"
  }
 },
 "nbformat": 4,
 "nbformat_minor": 5
}
