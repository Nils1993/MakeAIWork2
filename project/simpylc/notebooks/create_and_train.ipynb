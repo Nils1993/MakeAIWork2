{
 "cells": [
  {
   "cell_type": "code",
   "execution_count": 13,
   "metadata": {},
   "outputs": [],
   "source": [
    "import os\n",
    "import torch\n",
    "from torch import nn\n",
    "from torch import optim\n",
    "from torch.utils.data import DataLoader\n",
    "import matplotlib.pyplot as plt\n",
    "import pandas as pd\n",
    "import numpy as np\n",
    "import pickle\n",
    "from tqdm import tqdm\n"
   ]
  },
  {
   "attachments": {},
   "cell_type": "markdown",
   "metadata": {},
   "source": [
    "### Here I create my Lidar model.\n",
    "\n",
    "-   To do this I use Pytorch's modules like: nn.Module(), nn.Sequential(), nn.Linear(), etc.\n",
    "-   To start, I create the class LidarBrain with nn.Module between the ().\n",
    "-   Then I define my model, I decided to use nn.Linear() since this is a regression problem.\n",
    "-   I use nn.Sequential() to define the amount of layers and so that I'm able to change the activation function per layer.\n",
    "-   After some experimentation I've found that using the activation function nn.ReLU() worked best. "
   ]
  },
  {
   "cell_type": "code",
   "execution_count": 4,
   "metadata": {},
   "outputs": [],
   "source": [
    "class LidarBrain(nn.Module):\n",
    "    \n",
    "    def __init__(self, inputs_size, hidden1_size, hidden2_size, hidden3_size, hidden4_size, hidden5_size, outputs_size):\n",
    "        super().__init__()\n",
    "\n",
    "        self.lb_model = nn.Sequential(\n",
    "            nn.Linear(inputs_size, hidden1_size),\n",
    "            nn.ReLU(),\n",
    "            nn.Linear(hidden1_size, hidden2_size),\n",
    "            nn.ReLU(),\n",
    "            nn.Linear(hidden2_size, hidden3_size),\n",
    "            nn.ReLU(),\n",
    "            nn.Linear(hidden3_size, hidden4_size),\n",
    "            nn.ReLU(),\n",
    "            nn.Linear(hidden4_size, hidden5_size),\n",
    "            nn.ReLU(),\n",
    "            nn.Linear(hidden5_size, outputs_size)\n",
    "            # nn.ReLU(),\n",
    "            # nn.Linear(hidden4_size, outputs_size)\n",
    "        )\n",
    "\n",
    "    def forward(self, x):\n",
    "\n",
    "        return self.lb_model(x)"
   ]
  },
  {
   "attachments": {},
   "cell_type": "markdown",
   "metadata": {},
   "source": [
    "### Load in the data\n",
    "\n",
    "-   I load in the data and assign X (scanner data) and Y (steering angle). I decided to leave out the target velocity as that would complicate things.\n",
    "-   I also convert the data to a torch.Tensor(), this worked best after first converting it to a np.array."
   ]
  },
  {
   "cell_type": "code",
   "execution_count": 40,
   "metadata": {},
   "outputs": [
    {
     "name": "stdout",
     "output_type": "stream",
     "text": [
      "tensor([[ 7.4593,  6.8660,  8.4048,  ...,  4.3179,  5.5356,  1.4650],\n",
      "        [ 7.4592,  6.8659,  8.4047,  ...,  4.3179,  5.5356,  1.4650],\n",
      "        [ 7.4592,  6.8659,  8.4047,  ...,  4.3179,  5.5356,  1.4650],\n",
      "        ...,\n",
      "        [ 7.1591,  3.1682,  1.1354,  ...,  1.1064, 20.0000, 20.0000],\n",
      "        [ 7.1591,  3.1682,  1.1354,  ...,  1.1064, 20.0000, 20.0000],\n",
      "        [ 7.1591,  3.1682,  1.1354,  ...,  1.1064, 20.0000, 20.0000]])\n",
      "torch.FloatTensor\n",
      "        0       1       2        3        4        5       6       7        8  \\\n",
      "0  7.4593  6.8660  8.4048  10.2781  12.9475   9.7540  5.7571  5.8859   3.9555   \n",
      "1  7.4592  6.8659  8.4047  10.2780  12.9474   9.7540  5.7570  5.8859   3.9554   \n",
      "2  7.4592  6.8659  8.4047  10.2780  12.9474   9.7540  5.7570  5.8859   3.9554   \n",
      "3  7.4566  6.8634  8.4025  10.2759  12.9456  11.2519  5.7557  5.8850  20.0000   \n",
      "4  7.4507  6.8577  8.3973  10.2711  12.9414  11.2484  5.7526  5.8828  20.0000   \n",
      "\n",
      "      9    10      11      12      13      14      15    16        17  \n",
      "0  20.0  20.0  5.2578  2.7651  4.3179  5.5356  1.4650 -32.0  0.966667  \n",
      "1  20.0  20.0  5.2578  2.7651  4.3179  5.5356  1.4650 -32.0  0.966667  \n",
      "2  20.0  20.0  5.2578  2.7651  4.3179  5.5356  1.4650 -32.0  0.966667  \n",
      "3  20.0  20.0  5.2556  2.7626  4.3154  5.5329  1.4623 -32.0  0.966667  \n",
      "4  20.0  20.0  5.2504  2.7570  4.3095  5.5268  4.8017 -31.0  0.983333  \n"
     ]
    }
   ],
   "source": [
    "load_path = \"C:/Users/nilsm/workspace/MakeAIWork2/project/simpylc/data/data_3rounds\"\n",
    "\n",
    "data_file = pd.read_table(load_path, sep = \",\", index_col = 0)\n",
    "\n",
    "\n",
    "# Create X data and Y data by converting them to torch.tensor\n",
    "X = torch.Tensor(np.array(data_file.iloc[:, :-2], copy=False))\n",
    "\n",
    "# We decided to leave out the velocity for now.\n",
    "Y = torch.Tensor(np.array(data_file.iloc[:, 16:17], copy=False))\n",
    "\n",
    "print(X)\n",
    "print(Y[0].type())\n",
    "print(data_file.head())"
   ]
  },
  {
   "attachments": {},
   "cell_type": "markdown",
   "metadata": {},
   "source": [
    "### Time to train the model!\n",
    "\n",
    "-   During this project I've experimented with a lot of different settings (more about this after saving the model).\n",
    "-   I start by defining the epochs and learning rate"
   ]
  },
  {
   "cell_type": "code",
   "execution_count": 41,
   "metadata": {},
   "outputs": [
    {
     "name": "stdout",
     "output_type": "stream",
     "text": [
      "LidarBrain(\n",
      "  (lb_model): Sequential(\n",
      "    (0): Linear(in_features=16, out_features=128, bias=True)\n",
      "    (1): ReLU()\n",
      "    (2): Linear(in_features=128, out_features=128, bias=True)\n",
      "    (3): ReLU()\n",
      "    (4): Linear(in_features=128, out_features=128, bias=True)\n",
      "    (5): ReLU()\n",
      "    (6): Linear(in_features=128, out_features=128, bias=True)\n",
      "    (7): ReLU()\n",
      "    (8): Linear(in_features=128, out_features=128, bias=True)\n",
      "    (9): ReLU()\n",
      "    (10): Linear(in_features=128, out_features=1, bias=True)\n",
      "  )\n",
      ")\n"
     ]
    },
    {
     "name": "stderr",
     "output_type": "stream",
     "text": [
      "100%|██████████| 200/200 [01:37<00:00,  2.06it/s]"
     ]
    },
    {
     "name": "stdout",
     "output_type": "stream",
     "text": [
      "[176.78324256881805, 135.26204999919915, 112.43422843826932, 104.83988990935369, 99.65220602274415, 92.70532748903005, 88.63907464455895, 84.01578883290527, 80.37517210124264, 77.33830916668265, 72.60692743657835, 69.91977537507802, 66.40085769410636, 63.07124558973976, 62.07516495418359, 57.24340389974075, 53.6690361874241, 50.65123705171923, 47.58529372338509, 45.770166114120784, 41.73892383120406, 41.003624881001166, 36.92123206377504, 34.11451816701036, 32.20726184010743, 30.117168453057293, 27.64299259887301, 25.76615792998737, 23.106504102350467, 22.341498140312332, 20.464732206839454, 19.622864491896884, 19.206771779012964, 17.384243665585224, 15.429368744313598, 15.888490572127386, 13.892861331907465, 14.03876950418499, 12.620276655520406, 12.59680094159621, 10.338974732290916, 10.175920820378405, 9.598773281569509, 8.839587873895884, 9.133685599501517, 8.366133800083789, 8.688579386081658, 7.790283092447588, 7.777527606155479, 6.757878947210596, 6.528421777972644, 6.094478749849687, 5.782539291955367, 5.941033765703262, 5.985954088316286, 5.503964098914717, 4.852319803022248, 4.805269938043761, 4.902330319343457, 5.32119199236629, 4.654446672137167, 4.328296127186618, 4.119836436173551, 4.233118948950683, 4.339681212044141, 4.688390181979413, 3.9885045370275884, 3.7533112490627447, 3.5234414447787743, 3.4553155625613026, 3.2575809398654916, 3.153278351659566, 2.8813653714199425, 3.1004381160553596, 3.2138698532081267, 2.9741378129417333, 2.98479542924206, 3.2443004887751035, 3.00423567850239, 2.9711562244010494, 2.7942316623971193, 2.781117395455273, 2.5894366745683355, 2.8020307194463774, 2.586513805608626, 2.679172434164563, 2.5436502573326614, 2.4902432894197184, 2.4212844498292587, 2.4489296432695618, 2.6363009239285886, 2.518178777239669, 2.5570730620450814, 2.252261947833046, 2.0226566658594143, 2.181631749181103, 2.25252584662755, 2.173572455882789, 2.27546121286706, 2.519003031653154, 2.7940077211700425, 2.43206966186968, 2.437884591327273, 2.209266935262244, 2.017991941400006, 1.936542014419203, 1.859334629095691, 2.052337535036724, 2.092057537043071, 2.0897187572379945, 2.162719768436837, 2.191736684345583, 1.9411995592517834, 2.05293703036268, 1.7758281718102649, 1.8582886757540182, 1.7833075124481563, 1.6966478954667363, 1.8040265910416309, 1.7863745045057584, 1.794733119280509, 1.7237341994082716, 1.6660287891686791, 1.9378144545684277, 1.7905974875002448, 1.7623261768319023, 1.7008524887545209, 1.6400383316558114, 1.8271361381393185, 1.6193239504756558, 1.7169008286110687, 1.577625431594389, 1.7124099891714264, 1.6486881140982417, 1.5795416511432314, 1.690836921089864, 1.5723582486997898, 1.5952288547223414, 1.5823733851343216, 1.5624719854910853, 1.683599351858998, 1.5883694053081348, 1.5190295176228756, 1.4854722903600743, 1.550068033677683, 1.5913877705071366, 1.5117493178806531, 1.8812285632813428, 1.6227764310407828, 2.0303422333468975, 1.5803981622455134, 1.5407400918498666, 1.4850403889569326, 1.566032579357534, 1.451792546564613, 1.5713370145700325, 1.6003308745015923, 1.5843717935337698, 1.4253467563206468, 1.4635717271647561, 1.413186579365024, 1.4394205342941209, 1.4517224440221521, 1.3497808200953376, 1.4860109203822807, 1.4261752520697135, 1.4063787223774917, 1.4014610081881462, 1.3984503130137802, 1.4542669508065547, 1.3401067570873924, 1.3796921830853932, 1.3631122050951299, 1.3487686094777958, 1.4418278712090513, 1.4046650044990345, 1.440898979619649, 1.33600056561721, 1.390806941430327, 1.414190620813467, 1.4135808217344772, 1.3082744353571185, 1.414145123028376, 1.3377091590144763, 1.2709697814247243, 1.4232292174552355, 1.3908455025841655, 1.3774577956905896, 1.2776823479008248, 1.281085880210338, 1.302830795600092, 1.3232463135367358, 1.3267144819362382, 1.3384738709503565, 1.3262375119784717, 1.2832072299736632, 1.3376637043997972, 1.4877537125147597, 1.3848659435720376, 1.301485378035968]\n"
     ]
    },
    {
     "name": "stderr",
     "output_type": "stream",
     "text": [
      "\n"
     ]
    },
    {
     "data": {
      "image/png": "[encoded data removed]",
      "text/plain": [
       "<Figure size 640x480 with 1 Axes>"
      ]
     },
     "metadata": {},
     "output_type": "display_data"
    }
   ],
   "source": [
    "# Define epochs and learning rate.\n",
    "epochs = 200\n",
    "learningRate = 0.000095\n",
    "\n",
    "# Define model and amount of neurons per layer.\n",
    "lb = LidarBrain(len(X[0]), 128, 128, 128, 128, 128, len(Y[0]))\n",
    "print(lb)\n",
    "\n",
    "# Create empty list for losses\n",
    "losses = []\n",
    "\n",
    "# Take binary cross entropy as loss function (one output interpreted as binary)\n",
    "lossFunction = nn.MSELoss()\n",
    "\n",
    "# Use stochastic gradient descent as optimizer, use weights and biases of model\n",
    "gradientDescent = torch.optim.SGD(lb.parameters(), lr=learningRate)\n",
    "\n",
    "# Add a loader for faster calculation and being able to use the shuffle=True function (which makes it less likely the model will just remember the track in order).\n",
    "loader = DataLoader(list(zip(X, Y)), shuffle=True, batch_size=10)\n",
    "\n",
    "# Train. I'm making use of the tqdm() library to keep track while it's buisy\n",
    "for i in tqdm(range(epochs)):\n",
    "\n",
    "    # Create empty losses_epoch list so I can .append() per epoch.\n",
    "    losses_epoch = []\n",
    "\n",
    "    for x, y in loader:\n",
    "    \n",
    "        # Reset the gradient delta's\n",
    "        gradientDescent.zero_grad()\n",
    "\n",
    "        # Forward step\n",
    "        yhat = lb(x)\n",
    "\n",
    "        # Compute loss\n",
    "        loss = lossFunction(yhat, y)\n",
    "        \n",
    "        # Keep track of loss\n",
    "        losses_epoch.append(loss.item())\n",
    "\n",
    "        # Apply gradient descent (via backpropagation)\n",
    "        loss.backward()\n",
    "\n",
    "        # Use w += -step * dw * learnRate\n",
    "        gradientDescent.step()\n",
    "\n",
    "    # Append losses per epoch\n",
    "    losses.append(sum(losses_epoch)/len(losses_epoch))\n",
    "\n",
    "print(losses)\n",
    "\n",
    "# Plot the losses (cost) vs the amount of epochs\n",
    "fig, ax = plt.subplots()\n",
    "ax.set(xlabel='Epoch', ylabel='Cost', title=\"Training Cost\")\n",
    "\n",
    "plt.plot([x for x in range(len(losses))], losses, 'red')\n",
    "plt.show()"
   ]
  },
  {
   "attachments": {},
   "cell_type": "markdown",
   "metadata": {},
   "source": [
    "### save the model.\n",
    "\n",
    "-   Use pickle to save the model.\n",
    "-   To experiment and try different epochs/learningrate/hidden-layers etc. I just returned to this notebook every time and saved it again to overwrite the model before or to a new name if I wanted to keep the old model."
   ]
  },
  {
   "cell_type": "code",
   "execution_count": 42,
   "metadata": {},
   "outputs": [],
   "source": [
    "save_path = \"C:/Users/nilsm/workspace/MakeAIWork2/project/simpylc/pickle/LidarBrain.pkl\"\n",
    "\n",
    "pickle.dump(lb.lb_model, open(save_path, 'wb'))"
   ]
  },
  {
   "attachments": {},
   "cell_type": "markdown",
   "metadata": {},
   "source": [
    "## After trying lots and lots of different things my conclusion is that Lidar is to unstable on THIS track to function in a safe way.\n",
    "\n",
    "Things I've tried:\n",
    "- Different Epochs\n",
    "- Different learning rates\n",
    "- Different data sets\n",
    "- Different batch sizes\n",
    "- More/less hiddenlayers\n",
    "- More/less neurons\n",
    "- With/without activation function.\n",
    "- Different max range on the scanner\n",
    "- Change the data by applying the IQR method\n"
   ]
  },
  {
   "attachments": {},
   "cell_type": "markdown",
   "metadata": {},
   "source": [
    "### Now with Sonar\n",
    "\n",
    "-   Since I did lidar first, all I had to do was do the exact same thing with sonar. As I set the input in my model as len(X) all I had to do was copy and paste the lidar version and change a few things so that it is it's own thing."
   ]
  },
  {
   "cell_type": "code",
   "execution_count": 17,
   "metadata": {},
   "outputs": [],
   "source": [
    "class SonarBrain(nn.Module):\n",
    "    \n",
    "    def __init__(self, inputs_size, hidden1_size, hidden2_size, outputs_size):\n",
    "        super().__init__()\n",
    "\n",
    "        self.sb_model = nn.Sequential(\n",
    "            nn.Linear(inputs_size, hidden1_size),\n",
    "            nn.ReLU(),\n",
    "            nn.Linear(hidden1_size, hidden2_size),\n",
    "            nn.ReLU(),\n",
    "            nn.Linear(hidden2_size, outputs_size)\n",
    "            # nn.ReLU(),\n",
    "            # nn.Linear(hidden3_size, outputs_size)\n",
    "            # nn.Linear(hidden2_size, hidden3_size),\n",
    "            # nn.ReLU(),\n",
    "            # nn.Linear(hidden3_size, hidden4_size),\n",
    "            # nn.ReLU(),\n",
    "            # nn.Linear(hidden4_size, outputs_size)\n",
    "        )\n",
    "\n",
    "    def forward(self, x):\n",
    "\n",
    "        return self.sb_model(x)"
   ]
  },
  {
   "cell_type": "code",
   "execution_count": 6,
   "metadata": {},
   "outputs": [
    {
     "name": "stdout",
     "output_type": "stream",
     "text": [
      "tensor([[1.4683, 1.2854, 1.7757],\n",
      "        [1.4683, 1.2854, 1.7757],\n",
      "        [1.4683, 1.2854, 1.7757],\n",
      "        ...,\n",
      "        [2.0547, 1.3089, 0.9240],\n",
      "        [2.0547, 1.3089, 0.9240],\n",
      "        [1.9351, 1.2385, 1.3189]])\n",
      "tensor([[-22.],\n",
      "        [-22.],\n",
      "        [-22.],\n",
      "        ...,\n",
      "        [  0.],\n",
      "        [  0.],\n",
      "        [  0.]])\n",
      "        0       1       2     3         4\n",
      "0  1.4683  1.2854  1.7757 -22.0  1.133333\n",
      "1  1.4683  1.2854  1.7757 -22.0  1.133333\n",
      "2  1.4683  1.2854  1.7757 -22.0  1.133333\n",
      "3  1.4683  1.2854  1.7757 -22.0  1.133333\n",
      "4  1.4683  1.2854  1.7757 -22.0  1.133333\n"
     ]
    }
   ],
   "source": [
    "load_path = \"C:/Users/nilsm/workspace/MakeAIWork2/project/simpylc/data/sonar_data_3r\"\n",
    "\n",
    "data_file_2 = pd.read_table(load_path, sep = \",\", index_col = 0)\n",
    "\n",
    "\n",
    "# Create X data and Y data by converting them to torch.tensor\n",
    "X_2 = torch.Tensor(np.array(data_file_2.iloc[:, :-2], copy=False))\n",
    "\n",
    "# We decided to leave out the velocity for now.\n",
    "Y_2 = torch.Tensor(np.array(data_file_2.iloc[:, 3:4], copy=False))\n",
    "\n",
    "print(X_2)\n",
    "print(Y_2)\n",
    "print(data_file_2.head())"
   ]
  },
  {
   "cell_type": "code",
   "execution_count": 19,
   "metadata": {},
   "outputs": [
    {
     "name": "stdout",
     "output_type": "stream",
     "text": [
      "SonarBrain(\n",
      "  (sb_model): Sequential(\n",
      "    (0): Linear(in_features=3, out_features=64, bias=True)\n",
      "    (1): ReLU()\n",
      "    (2): Linear(in_features=64, out_features=64, bias=True)\n",
      "    (3): ReLU()\n",
      "    (4): Linear(in_features=64, out_features=1, bias=True)\n",
      "  )\n",
      ")\n"
     ]
    },
    {
     "name": "stderr",
     "output_type": "stream",
     "text": [
      "100%|██████████| 100/100 [02:38<00:00,  1.59s/it]"
     ]
    },
    {
     "name": "stdout",
     "output_type": "stream",
     "text": [
      "[101.08351703035446, 93.30143506276922, 89.23353503242498, 84.68873217313359, 77.90589529687755, 69.52773143077076, 61.66650464771869, 56.26207986478088, 53.12651391835775, 50.9657149074031, 49.26622901599706, 47.80608882060305, 46.48572221798609, 45.22334813470034, 44.01777006966879, 42.80838579616256, 41.589000103468116, 40.36423455561029, 39.12238005304777, 37.83877802420151, 36.46819889456225, 35.04200163969711, 33.60746056988801, 32.1917443834692, 30.81732595724254, 29.471635648663643, 28.1835176196524, 26.936545367237777, 25.757819909324898, 24.630478621782295, 23.576431370868423, 22.599137016067665, 21.675457305317742, 20.81059915968459, 20.00476267175091, 19.25624018832883, 18.579553433708686, 17.973586533625554, 17.41536825352564, 16.907371767799855, 16.4544214105162, 16.03453662702508, 15.645007790311912, 15.283910681080371, 14.938122899191034, 14.60954850788991, 14.303298108865388, 14.006972863244048, 13.719673435246976, 13.44322148661446, 13.182532913672675, 12.927264620161685, 12.687189862639467, 12.457381629271875, 12.240487588047332, 12.03224615509975, 11.827375604296622, 11.627612506988843, 11.440251488244623, 11.259426949224626, 11.087729033066308, 10.921766822911044, 10.770482547645647, 10.630509871146835, 10.493194346544216, 10.364661013301605, 10.24391944357712, 10.128636438728984, 10.014091718087359, 9.911284278112527, 9.808817758978025, 9.71149875782277, 9.614742835344048, 9.523708205399567, 9.434849095778365, 9.348356219161898, 9.266394576039918, 9.188443851724173, 9.108488028893724, 9.03335615924455, 8.959144285920129, 8.890484423886853, 8.82290673703953, 8.759531166716267, 8.699602141353893, 8.634117335617855, 8.574815782968884, 8.514661145635676, 8.45459597004478, 8.39894266417658, 8.341790584698503, 8.284139869774117, 8.230771171252849, 8.179119771816255, 8.129311288513321, 8.076902046445614, 8.025145316499719, 7.974129183042525, 7.921543423690224, 7.8726102819149695]\n"
     ]
    },
    {
     "name": "stderr",
     "output_type": "stream",
     "text": [
      "\n"
     ]
    },
    {
     "data": {
      "image/png": "[encoded data removed]",
      "text/plain": [
       "<Figure size 640x480 with 1 Axes>"
      ]
     },
     "metadata": {},
     "output_type": "display_data"
    }
   ],
   "source": [
    "epochs_2 = 100\n",
    "\n",
    "learningRate_2 = 0.00001\n",
    "\n",
    "#----------------------------------------\n",
    "\n",
    "sb = SonarBrain(len(X_2[0]), 64, 64, len(Y_2[0]))\n",
    "\n",
    "print(sb)\n",
    "\n",
    "#----------------------------------------\n",
    "\n",
    "losses = []\n",
    "\n",
    "# Take binary cross entropy as loss function (one output interpreted as binary)\n",
    "lossFunction_2 = nn.MSELoss()\n",
    "\n",
    "# Use stochastic gradient descent as optimizer, use weights and biases of model\n",
    "gradientDescent_2 = torch.optim.SGD(sb.parameters(), lr=learningRate_2)\n",
    "\n",
    "#----------------------------------------\n",
    "\n",
    "for j in tqdm(range(epochs_2)):\n",
    "\n",
    "    losses_epoch = []\n",
    "    for x, y in zip(X_2, Y_2):\n",
    "    \n",
    "        # Reset the gradient delta's (dw, db)\n",
    "        gradientDescent_2.zero_grad()\n",
    "\n",
    "        # Forward step\n",
    "        yhat = sb(x)\n",
    "\n",
    "        # Compute loss\n",
    "        loss = lossFunction_2(yhat, y)\n",
    "        \n",
    "        # Keep track of loss\n",
    "        losses_epoch.append(loss.item())\n",
    "\n",
    "        # Apply gradient descent (via backpropagation)\n",
    "        loss.backward()\n",
    "\n",
    "        # Use w += -step * dw * learnRate\n",
    "        gradientDescent_2.step()\n",
    "\n",
    "    losses.append(sum(losses_epoch)/len(losses_epoch))\n",
    "\n",
    "print(losses)\n",
    "\n",
    "#----------------------------------------\n",
    "\n",
    "fig, ax = plt.subplots()\n",
    "ax.set(xlabel='Epoch', ylabel='Cost', title=\"Training Cost\")\n",
    "\n",
    "plt.plot([x for x in range(len(losses))], losses, 'red')\n",
    "plt.show()\n",
    "\n",
    "#----------------------------------------"
   ]
  },
  {
   "cell_type": "code",
   "execution_count": 20,
   "metadata": {},
   "outputs": [],
   "source": [
    "save_path = \"C:/Users/nilsm/workspace/MakeAIWork2/project/simpylc/pickle/SonarBrain.pkl\"\n",
    "\n",
    "pickle.dump(sb.sb_model, open(save_path, 'wb'))"
   ]
  },
  {
   "attachments": {},
   "cell_type": "markdown",
   "metadata": {},
   "source": [
    "# Conclusion\n",
    "\n",
    "-   Experimenting with both Lidar and Sonar i've found that Lidar is very unstable compared to Sonar, my sonar model worked almost perfectly after 2 different training sessions while I've worked for almost a whole week to try and make the Lidar version more stable.\n",
    "\n",
    "-   After testing the hardcoded Lidar version some more I found out that after a couple of rounds it also straightup runs off the track. This means I've been training my Lidar model with unstable data to begin with and it won't ever be stable using this type of machinelearning."
   ]
  }
 ],
 "metadata": {
  "kernelspec": {
   "display_name": "env",
   "language": "python",
   "name": "python3"
  },
  "language_info": {
   "codemirror_mode": {
    "name": "ipython",
    "version": 3
   },
   "file_extension": ".py",
   "mimetype": "text/x-python",
   "name": "python",
   "nbconvert_exporter": "python",
   "pygments_lexer": "ipython3",
   "version": "3.10.11"
  },
  "orig_nbformat": 4
 },
 "nbformat": 4,
 "nbformat_minor": 2
}
