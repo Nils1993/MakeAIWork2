{
 "cells": [
  {
   "cell_type": "code",
   "execution_count": 2,
   "metadata": {},
   "outputs": [],
   "source": [
    "import os\n",
    "import torch\n",
    "from torch import nn\n",
    "from torch import optim\n",
    "import matplotlib.pyplot as plt\n",
    "import pandas as pd\n",
    "import numpy as np\n",
    "import pickle"
   ]
  },
  {
   "cell_type": "code",
   "execution_count": 3,
   "metadata": {},
   "outputs": [],
   "source": [
    "class LidarBrain(nn.Module):\n",
    "    \n",
    "    def __init__(self, inputs_size, hidden1_size, hidden2_size, hidden3_size, outputs_size):\n",
    "        super().__init__()\n",
    "\n",
    "        self.model = nn.Sequential(\n",
    "            nn.Linear(inputs_size, hidden1_size),\n",
    "            nn.Linear(hidden1_size, hidden2_size),\n",
    "            nn.Linear(hidden2_size, hidden3_size),\n",
    "            nn.Linear(hidden3_size, outputs_size)\n",
    "        )\n",
    "\n",
    "    def forward(self, x):\n",
    "\n",
    "        return self.model(x)"
   ]
  },
  {
   "cell_type": "code",
   "execution_count": 4,
   "metadata": {},
   "outputs": [
    {
     "name": "stdout",
     "output_type": "stream",
     "text": [
      "torch.FloatTensor\n",
      "torch.FloatTensor\n"
     ]
    }
   ],
   "source": [
    "load_path = \"C:/Users/nilsm/workspace/MakeAIWork2/project/simpylc/data/data_2rounds\"\n",
    "\n",
    "data_file = pd.read_table(load_path, sep = \",\", index_col = 0)\n",
    "\n",
    "\n",
    "# Create X data and Y data by converting them to torch.tensor\n",
    "X = torch.Tensor(np.array(data_file.iloc[:, :-2], copy=False))\n",
    "\n",
    "# We decided to leave out the velocity for now.\n",
    "Y = torch.Tensor(np.array(data_file.iloc[:, 16:17], copy=False))\n",
    "\n",
    "print(X.type())\n",
    "print(Y[0].type())"
   ]
  },
  {
   "cell_type": "code",
   "execution_count": 35,
   "metadata": {},
   "outputs": [
    {
     "name": "stdout",
     "output_type": "stream",
     "text": [
      "LidarBrain(\n",
      "  (model): Sequential(\n",
      "    (0): Linear(in_features=16, out_features=40, bias=True)\n",
      "    (1): Linear(in_features=40, out_features=30, bias=True)\n",
      "    (2): Linear(in_features=30, out_features=1, bias=True)\n",
      "  )\n",
      ")\n",
      "[567963.2362129313, 522270.7913228342, 493361.9746959835, 477777.5392315649, 469220.8922288047, 463802.1851054568, 459889.31200485374, 456810.0762839238, 454262.23419427394, 452098.85094086285, 450242.8188827026, 448650.30774074094, 447293.31938899844, 446151.0073300962, 445205.62036668975, 444440.12563859636, 443837.5369296551, 443380.81944423326, 443053.12183265307, 442838.1051519631, 442720.3388939871, 442685.4972958627, 442720.84048065403, 442815.00727879704, 442957.9979132724, 443141.31194896647, 443357.66744203545, 443600.78775327234, 443865.42118235986, 444147.29953766085]\n"
     ]
    },
    {
     "data": {
      "image/png": "[encoded data removed]",
      "text/plain": [
       "<Figure size 640x480 with 1 Axes>"
      ]
     },
     "metadata": {},
     "output_type": "display_data"
    }
   ],
   "source": [
    "epochs = 30\n",
    "\n",
    "learningRate = 0.000001\n",
    "\n",
    "#----------------------------------------\n",
    "\n",
    "lb = LidarBrain(16, 40, 40, 40, 1)\n",
    "\n",
    "print(lb)\n",
    "\n",
    "#----------------------------------------\n",
    "\n",
    "losses = []\n",
    "\n",
    "# Take binary cross entropy as loss function (one output interpreted as binary)\n",
    "lossFunction = nn.MSELoss()\n",
    "\n",
    "# Use stochastic gradient descent as optimizer, use weights and biases of model\n",
    "gradientDescent = torch.optim.SGD(lb.parameters(), lr=learningRate)\n",
    "\n",
    "#----------------------------------------\n",
    "\n",
    "for i in range(epochs):\n",
    "\n",
    "    losses_epoch = []\n",
    "    for x, y in zip(X, Y):\n",
    "    \n",
    "        # Reset the gradient delta's (dw, db)\n",
    "        gradientDescent.zero_grad()\n",
    "\n",
    "        # Forward step\n",
    "        yhat = lb(x)\n",
    "\n",
    "        # Compute loss\n",
    "        loss = lossFunction(yhat, y)\n",
    "        \n",
    "        # Keep track of loss\n",
    "        losses_epoch.append(loss.item())\n",
    "\n",
    "        # Apply gradient descent (via backpropagation)\n",
    "        loss.backward()\n",
    "\n",
    "        # Use w += -step * dw * learnRate\n",
    "        gradientDescent.step()\n",
    "\n",
    "    losses.append(sum(losses_epoch))\n",
    "\n",
    "print(losses)\n",
    "\n",
    "#----------------------------------------\n",
    "\n",
    "fig, ax = plt.subplots()\n",
    "ax.set(xlabel='Epoch', ylabel='Cost', title=\"Training Cost\")\n",
    "\n",
    "plt.plot([x for x in range(len(losses))], losses, 'red')\n",
    "plt.show()\n",
    "\n",
    "#----------------------------------------"
   ]
  },
  {
   "cell_type": "code",
   "execution_count": 34,
   "metadata": {},
   "outputs": [],
   "source": [
    "save_path = \"C:/Users/nilsm/workspace/MakeAIWork2/project/simpylc/pickle/LidarBrain.pkl\"\n",
    "\n",
    "pickle.dump(lb.model, open(save_path, 'wb'))"
   ]
  },
  {
   "cell_type": "code",
   "execution_count": 32,
   "metadata": {},
   "outputs": [
    {
     "ename": "RuntimeError",
     "evalue": "Storage size calculation overflowed with sizes=[20, 20, 20, 20, 20, 20, 20, 20, 20, 20, 20, 20, 20, 20, 20, 20]",
     "output_type": "error",
     "traceback": [
      "\u001b[1;31m---------------------------------------------------------------------------\u001b[0m",
      "\u001b[1;31mRuntimeError\u001b[0m                              Traceback (most recent call last)",
      "Cell \u001b[1;32mIn[32], line 4\u001b[0m\n\u001b[0;32m      1\u001b[0m pkl_load_path \u001b[39m=\u001b[39m \u001b[39m\"\u001b[39m\u001b[39mC:/Users/nilsm/workspace/MakeAIWork2/project/simpylc/pickle/LidarBrain.pkl\u001b[39m\u001b[39m\"\u001b[39m\n\u001b[0;32m      2\u001b[0m lb_model \u001b[39m=\u001b[39m pickle\u001b[39m.\u001b[39mload(\u001b[39mopen\u001b[39m(pkl_load_path, \u001b[39m\"\u001b[39m\u001b[39mrb\u001b[39m\u001b[39m\"\u001b[39m))\n\u001b[1;32m----> 4\u001b[0m x_test \u001b[39m=\u001b[39m torch\u001b[39m.\u001b[39;49mTensor(\u001b[39m20\u001b[39;49m,\u001b[39m20\u001b[39;49m,\u001b[39m20\u001b[39;49m,\u001b[39m20\u001b[39;49m,\u001b[39m20\u001b[39;49m,\u001b[39m20\u001b[39;49m,\u001b[39m20\u001b[39;49m,\u001b[39m20\u001b[39;49m,\u001b[39m20\u001b[39;49m,\u001b[39m20\u001b[39;49m,\u001b[39m20\u001b[39;49m,\u001b[39m20\u001b[39;49m,\u001b[39m20\u001b[39;49m,\u001b[39m20\u001b[39;49m,\u001b[39m20\u001b[39;49m,\u001b[39m20\u001b[39;49m)\n\u001b[0;32m      5\u001b[0m lb_model(x)\n",
      "\u001b[1;31mRuntimeError\u001b[0m: Storage size calculation overflowed with sizes=[20, 20, 20, 20, 20, 20, 20, 20, 20, 20, 20, 20, 20, 20, 20, 20]"
     ]
    }
   ],
   "source": [
    "pkl_load_path = \"C:/Users/nilsm/workspace/MakeAIWork2/project/simpylc/pickle/LidarBrain.pkl\"\n",
    "lb_model = pickle.load(open(pkl_load_path, \"rb\"))\n",
    "\n",
    "lb_model"
   ]
  }
 ],
 "metadata": {
  "kernelspec": {
   "display_name": "env",
   "language": "python",
   "name": "python3"
  },
  "language_info": {
   "codemirror_mode": {
    "name": "ipython",
    "version": 3
   },
   "file_extension": ".py",
   "mimetype": "text/x-python",
   "name": "python",
   "nbconvert_exporter": "python",
   "pygments_lexer": "ipython3",
   "version": "3.10.11"
  },
  "orig_nbformat": 4
 },
 "nbformat": 4,
 "nbformat_minor": 2
}
