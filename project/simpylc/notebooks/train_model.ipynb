{
 "cells": [
  {
   "cell_type": "code",
   "execution_count": 14,
   "metadata": {},
   "outputs": [],
   "source": [
    "import os\n",
    "import torch\n",
    "from torch import nn\n",
    "from torch import optim\n",
    "import matplotlib.pyplot as plt\n",
    "import pandas as pd\n",
    "import numpy as np\n",
    "import pickle\n",
    "from tqdm import tqdm"
   ]
  },
  {
   "cell_type": "code",
   "execution_count": 19,
   "metadata": {},
   "outputs": [],
   "source": [
    "class LidarBrain(nn.Module):\n",
    "    \n",
    "    def __init__(self, inputs_size, hidden1_size, hidden2_size, hidden3_size, outputs_size):\n",
    "        super().__init__()\n",
    "\n",
    "        self.lb_model = nn.Sequential(\n",
    "            nn.Linear(inputs_size, hidden1_size),\n",
    "            nn.ReLU(),\n",
    "            nn.Linear(hidden1_size, hidden2_size),\n",
    "            nn.ReLU(),\n",
    "            nn.Linear(hidden2_size, hidden3_size),\n",
    "            nn.ReLU(),\n",
    "            nn.Linear(hidden3_size, outputs_size)\n",
    "            # nn.Linear(hidden2_size, hidden3_size),\n",
    "            # nn.ReLU(),\n",
    "            # nn.Linear(hidden3_size, hidden4_size),\n",
    "            # nn.ReLU(),\n",
    "            # nn.Linear(hidden4_size, outputs_size)\n",
    "        )\n",
    "\n",
    "    def forward(self, x):\n",
    "\n",
    "        return self.lb_model(x)"
   ]
  },
  {
   "cell_type": "code",
   "execution_count": 7,
   "metadata": {},
   "outputs": [
    {
     "name": "stdout",
     "output_type": "stream",
     "text": [
      "tensor([[ 7.4593,  6.8660,  8.4048,  ...,  4.3179,  5.5356,  1.4650],\n",
      "        [ 7.4592,  6.8659,  8.4047,  ...,  4.3179,  5.5356,  1.4650],\n",
      "        [ 7.4592,  6.8659,  8.4047,  ...,  4.3179,  5.5356,  1.4650],\n",
      "        ...,\n",
      "        [ 7.1591,  3.1682,  1.1354,  ...,  1.1064, 20.0000, 20.0000],\n",
      "        [ 7.1591,  3.1682,  1.1354,  ...,  1.1064, 20.0000, 20.0000],\n",
      "        [ 7.1591,  3.1682,  1.1354,  ...,  1.1064, 20.0000, 20.0000]])\n",
      "torch.FloatTensor\n",
      "        0       1       2        3        4        5       6       7        8  \\\n",
      "0  7.4593  6.8660  8.4048  10.2781  12.9475   9.7540  5.7571  5.8859   3.9555   \n",
      "1  7.4592  6.8659  8.4047  10.2780  12.9474   9.7540  5.7570  5.8859   3.9554   \n",
      "2  7.4592  6.8659  8.4047  10.2780  12.9474   9.7540  5.7570  5.8859   3.9554   \n",
      "3  7.4566  6.8634  8.4025  10.2759  12.9456  11.2519  5.7557  5.8850  20.0000   \n",
      "4  7.4507  6.8577  8.3973  10.2711  12.9414  11.2484  5.7526  5.8828  20.0000   \n",
      "\n",
      "      9    10      11      12      13      14      15    16        17  \n",
      "0  20.0  20.0  5.2578  2.7651  4.3179  5.5356  1.4650 -32.0  0.966667  \n",
      "1  20.0  20.0  5.2578  2.7651  4.3179  5.5356  1.4650 -32.0  0.966667  \n",
      "2  20.0  20.0  5.2578  2.7651  4.3179  5.5356  1.4650 -32.0  0.966667  \n",
      "3  20.0  20.0  5.2556  2.7626  4.3154  5.5329  1.4623 -32.0  0.966667  \n",
      "4  20.0  20.0  5.2504  2.7570  4.3095  5.5268  4.8017 -31.0  0.983333  \n"
     ]
    }
   ],
   "source": [
    "load_path = \"C:/Users/nilsm/workspace/MakeAIWork2/project/simpylc/data/data_3rounds\"\n",
    "\n",
    "data_file = pd.read_table(load_path, sep = \",\", index_col = 0)\n",
    "\n",
    "\n",
    "# Create X data and Y data by converting them to torch.tensor\n",
    "X = torch.Tensor(np.array(data_file.iloc[:, :-2], copy=False))\n",
    "\n",
    "# We decided to leave out the velocity for now.\n",
    "Y = torch.Tensor(np.array(data_file.iloc[:, 16:17], copy=False))\n",
    "\n",
    "print(X)\n",
    "print(Y[0].type())\n",
    "print(data_file.head())"
   ]
  },
  {
   "cell_type": "code",
   "execution_count": null,
   "metadata": {},
   "outputs": [
    {
     "name": "stdout",
     "output_type": "stream",
     "text": [
      "LidarBrain(\n",
      "  (model): Sequential(\n",
      "    (0): Linear(in_features=16, out_features=128, bias=True)\n",
      "    (1): ReLU()\n",
      "    (2): Linear(in_features=128, out_features=128, bias=True)\n",
      "    (3): ReLU()\n",
      "    (4): Linear(in_features=128, out_features=128, bias=True)\n",
      "    (5): ReLU()\n",
      "    (6): Linear(in_features=128, out_features=1, bias=True)\n",
      "  )\n",
      ")\n"
     ]
    },
    {
     "name": "stderr",
     "output_type": "stream",
     "text": [
      "100%|██████████| 200/200 [08:35<00:00,  2.58s/it]"
     ]
    },
    {
     "name": "stdout",
     "output_type": "stream",
     "text": [
      "[135.12340884899507, 86.09725517305584, 75.87786605562272, 70.99032465383098, 68.09133356904763, 66.48053100477509, 64.32683396771276, 61.84793214143288, 59.7635509297107, 57.52704624575894, 55.17054262381595, 52.78390813190146, 50.69507999219298, 48.43238465750739, 46.25865543410106, 44.28936091511242, 42.50985777001258, 40.71481937379492, 38.82629045747473, 37.313186285106674, 35.712605499042084, 34.38981770117096, 32.892599980898204, 31.88318524690852, 30.836705000127274, 29.866268123898752, 28.80795354007614, 27.873659023927022, 26.760006455579468, 25.96749103865212, 25.13275533224869, 24.283878327945274, 23.61304253849444, 22.96217121564873, 22.37967375263424, 21.733469615686726, 21.04536028013873, 20.4251572734636, 20.102412541850867, 19.752458050284485, 19.400783314512367, 18.92975688871966, 18.574044828174625, 18.15617859735506, 17.811938407375337, 17.67242375551395, 17.34203140153351, 16.94104954420806, 16.566364223279166, 16.302657389763827, 15.929199072985533, 15.631964581168202, 15.292860173156281, 14.960978727237789, 14.657421538382184, 14.334667728914166, 14.097856473827802, 13.713276539638404, 13.527260643245567, 13.26098199703939, 13.042537556142072, 12.612323861165898, 12.614414858368457, 12.119107434515712, 11.985548613314375, 11.812941548987554, 11.579902295174275, 11.26672705155962, 11.104053746366194, 10.908142686554426, 10.682895459132604, 10.36857894220341, 10.166159946841653, 10.16051821293, 10.06535112581295, 9.777063844775085, 9.749191166148918, 9.550472219634377, 9.322020200011602, 9.198709860812476, 8.93890692547519, 8.845404971538779, 8.710736585948329, 8.524120317158932, 8.426384316137334, 8.204184841242947, 8.30028979296152, 8.16587955111288, 8.158992902235124, 8.02000720109026, 7.874056240079362, 7.745545224669781, 7.688825383129013, 7.50911895792678, 7.508295109854029, 7.3579669804492704, 7.318648109797438, 7.263575751710314, 7.188955915531222, 7.001655867191993, 6.975423736675788, 6.856564020505456, 6.867220955221682, 6.704103067297015, 6.775393158622545, 6.458294676390263, 6.334184794415216, 6.296244582204457, 6.282369552019149, 6.1686796755182325, 6.076509132064164, 5.984160814795538, 5.928844179840255, 5.883016553618754, 5.812367797075896, 5.696342312671568, 5.6770963363810685, 5.670183785870652, 5.622720188341443, 5.515387000691329, 5.383246519655604, 5.378106920150695, 5.368578321190255, 5.257080945666549, 5.274642445223756, 5.171256826389245, 5.099102541170173, 5.0794555438843885, 5.048013434324081, 4.949143063926564, 4.93395129056308, 4.866976200529041, 4.797458031370953, 4.775375442628423, 4.719687812524217, 4.704617349072459, 4.672134021020708, 4.69286318449083, 4.626037003098485, 4.577026609527107, 4.571091642975231, 4.503021963760397, 4.468599911188135, 4.448283255637419, 4.432334807822319, 4.348808199323721, 4.3068030915452855, 4.327024121981207, 4.305825908381737, 4.251684358449876, 4.257827941837699, 4.24251008350626, 4.156217212742554, 4.1376401026530605, 4.1274325139897075, 4.121834767254868, 4.084063135833047, 4.0663970377854355, 4.0329226084281276, 3.980056118303405, 3.922643394691437, 3.8785410339070268, 3.9035952082996808, 3.9087645055589917, 3.8336376536118055, 3.7923052234319097, 3.77618698998598, 3.763245963964563, 3.71772860470135, 3.714921271573584, 3.6854420398354617, 3.6493171931885833, 3.7193313313578438, 3.6325491905625205, 3.599490840925226, 3.57556654634293, 3.5416203286003776, 3.544936864014358, 3.5357538154334707, 3.497451214447534, 3.498116986681464, 3.456742562454536, 3.40105981417806, 3.4304230142001453, 3.394372113714444, 3.3195558361665243, 3.3386235712201366, 3.313957684449502, 3.301670163513273, 3.282166206953963, 3.255443651291577, 3.2458825371038094, 3.2532893405618597, 3.2219986127043607, 3.2199941731284216, 3.200229323621087, 3.154667367363897, 3.1473069329021572, 3.140377452936992, 3.10012803251071]\n"
     ]
    },
    {
     "name": "stderr",
     "output_type": "stream",
     "text": [
      "\n"
     ]
    },
    {
     "data": {
      "image/png": "[encoded data removed]",
      "text/plain": [
       "<Figure size 640x480 with 1 Axes>"
      ]
     },
     "metadata": {},
     "output_type": "display_data"
    }
   ],
   "source": [
    "epochs = 200\n",
    "\n",
    "learningRate = 0.000007\n",
    "\n",
    "#----------------------------------------\n",
    "\n",
    "lb = LidarBrain(len(X[0]), 128, 128, 128, len(Y[0]))\n",
    "\n",
    "print(lb)\n",
    "\n",
    "#----------------------------------------\n",
    "\n",
    "losses = []\n",
    "\n",
    "# Take binary cross entropy as loss function (one output interpreted as binary)\n",
    "lossFunction = nn.MSELoss()\n",
    "\n",
    "# Use stochastic gradient descent as optimizer, use weights and biases of model\n",
    "gradientDescent = torch.optim.SGD(lb.parameters(), lr=learningRate)\n",
    "\n",
    "#----------------------------------------\n",
    "\n",
    "for i in tqdm(range(epochs)):\n",
    "\n",
    "    losses_epoch = []\n",
    "    for x, y in zip(X, Y):\n",
    "    \n",
    "        # Reset the gradient delta's (dw, db)\n",
    "        gradientDescent.zero_grad()\n",
    "\n",
    "        # Forward step\n",
    "        yhat = lb(x)\n",
    "\n",
    "        # Compute loss\n",
    "        loss = lossFunction(yhat, y)\n",
    "        \n",
    "        # Keep track of loss\n",
    "        losses_epoch.append(loss.item())\n",
    "\n",
    "        # Apply gradient descent (via backpropagation)\n",
    "        loss.backward()\n",
    "\n",
    "        # Use w += -step * dw * learnRate\n",
    "        gradientDescent.step()\n",
    "\n",
    "    losses.append(sum(losses_epoch)/len(losses_epoch))\n",
    "\n",
    "print(losses)\n",
    "\n",
    "#----------------------------------------\n",
    "\n",
    "fig, ax = plt.subplots()\n",
    "ax.set(xlabel='Epoch', ylabel='Cost', title=\"Training Cost\")\n",
    "\n",
    "plt.plot([x for x in range(len(losses))], losses, 'red')\n",
    "plt.show()\n",
    "\n",
    "#----------------------------------------"
   ]
  },
  {
   "cell_type": "code",
   "execution_count": 36,
   "metadata": {},
   "outputs": [],
   "source": [
    "save_path = \"C:/Users/nilsm/workspace/MakeAIWork2/project/simpylc/pickle/LidarBrain.pkl\"\n",
    "\n",
    "pickle.dump(lb.lb_model, open(save_path, 'wb'))"
   ]
  },
  {
   "attachments": {},
   "cell_type": "markdown",
   "metadata": {},
   "source": [
    "# Now with Sonar"
   ]
  },
  {
   "cell_type": "code",
   "execution_count": 17,
   "metadata": {},
   "outputs": [],
   "source": [
    "class SonarBrain(nn.Module):\n",
    "    \n",
    "    def __init__(self, inputs_size, hidden1_size, hidden2_size, outputs_size):\n",
    "        super().__init__()\n",
    "\n",
    "        self.sb_model = nn.Sequential(\n",
    "            nn.Linear(inputs_size, hidden1_size),\n",
    "            nn.ReLU(),\n",
    "            nn.Linear(hidden1_size, hidden2_size),\n",
    "            nn.ReLU(),\n",
    "            nn.Linear(hidden2_size, outputs_size)\n",
    "            # nn.ReLU(),\n",
    "            # nn.Linear(hidden3_size, outputs_size)\n",
    "            # nn.Linear(hidden2_size, hidden3_size),\n",
    "            # nn.ReLU(),\n",
    "            # nn.Linear(hidden3_size, hidden4_size),\n",
    "            # nn.ReLU(),\n",
    "            # nn.Linear(hidden4_size, outputs_size)\n",
    "        )\n",
    "\n",
    "    def forward(self, x):\n",
    "\n",
    "        return self.sb_model(x)"
   ]
  },
  {
   "cell_type": "code",
   "execution_count": 6,
   "metadata": {},
   "outputs": [
    {
     "name": "stdout",
     "output_type": "stream",
     "text": [
      "tensor([[1.4683, 1.2854, 1.7757],\n",
      "        [1.4683, 1.2854, 1.7757],\n",
      "        [1.4683, 1.2854, 1.7757],\n",
      "        ...,\n",
      "        [2.0547, 1.3089, 0.9240],\n",
      "        [2.0547, 1.3089, 0.9240],\n",
      "        [1.9351, 1.2385, 1.3189]])\n",
      "tensor([[-22.],\n",
      "        [-22.],\n",
      "        [-22.],\n",
      "        ...,\n",
      "        [  0.],\n",
      "        [  0.],\n",
      "        [  0.]])\n",
      "        0       1       2     3         4\n",
      "0  1.4683  1.2854  1.7757 -22.0  1.133333\n",
      "1  1.4683  1.2854  1.7757 -22.0  1.133333\n",
      "2  1.4683  1.2854  1.7757 -22.0  1.133333\n",
      "3  1.4683  1.2854  1.7757 -22.0  1.133333\n",
      "4  1.4683  1.2854  1.7757 -22.0  1.133333\n"
     ]
    }
   ],
   "source": [
    "load_path = \"C:/Users/nilsm/workspace/MakeAIWork2/project/simpylc/data/sonar_data_3r\"\n",
    "\n",
    "data_file_2 = pd.read_table(load_path, sep = \",\", index_col = 0)\n",
    "\n",
    "\n",
    "# Create X data and Y data by converting them to torch.tensor\n",
    "X_2 = torch.Tensor(np.array(data_file_2.iloc[:, :-2], copy=False))\n",
    "\n",
    "# We decided to leave out the velocity for now.\n",
    "Y_2 = torch.Tensor(np.array(data_file_2.iloc[:, 3:4], copy=False))\n",
    "\n",
    "print(X_2)\n",
    "print(Y_2)\n",
    "print(data_file_2.head())"
   ]
  },
  {
   "cell_type": "code",
   "execution_count": 19,
   "metadata": {},
   "outputs": [
    {
     "name": "stdout",
     "output_type": "stream",
     "text": [
      "SonarBrain(\n",
      "  (sb_model): Sequential(\n",
      "    (0): Linear(in_features=3, out_features=64, bias=True)\n",
      "    (1): ReLU()\n",
      "    (2): Linear(in_features=64, out_features=64, bias=True)\n",
      "    (3): ReLU()\n",
      "    (4): Linear(in_features=64, out_features=1, bias=True)\n",
      "  )\n",
      ")\n"
     ]
    },
    {
     "name": "stderr",
     "output_type": "stream",
     "text": [
      "100%|██████████| 100/100 [02:38<00:00,  1.59s/it]"
     ]
    },
    {
     "name": "stdout",
     "output_type": "stream",
     "text": [
      "[101.08351703035446, 93.30143506276922, 89.23353503242498, 84.68873217313359, 77.90589529687755, 69.52773143077076, 61.66650464771869, 56.26207986478088, 53.12651391835775, 50.9657149074031, 49.26622901599706, 47.80608882060305, 46.48572221798609, 45.22334813470034, 44.01777006966879, 42.80838579616256, 41.589000103468116, 40.36423455561029, 39.12238005304777, 37.83877802420151, 36.46819889456225, 35.04200163969711, 33.60746056988801, 32.1917443834692, 30.81732595724254, 29.471635648663643, 28.1835176196524, 26.936545367237777, 25.757819909324898, 24.630478621782295, 23.576431370868423, 22.599137016067665, 21.675457305317742, 20.81059915968459, 20.00476267175091, 19.25624018832883, 18.579553433708686, 17.973586533625554, 17.41536825352564, 16.907371767799855, 16.4544214105162, 16.03453662702508, 15.645007790311912, 15.283910681080371, 14.938122899191034, 14.60954850788991, 14.303298108865388, 14.006972863244048, 13.719673435246976, 13.44322148661446, 13.182532913672675, 12.927264620161685, 12.687189862639467, 12.457381629271875, 12.240487588047332, 12.03224615509975, 11.827375604296622, 11.627612506988843, 11.440251488244623, 11.259426949224626, 11.087729033066308, 10.921766822911044, 10.770482547645647, 10.630509871146835, 10.493194346544216, 10.364661013301605, 10.24391944357712, 10.128636438728984, 10.014091718087359, 9.911284278112527, 9.808817758978025, 9.71149875782277, 9.614742835344048, 9.523708205399567, 9.434849095778365, 9.348356219161898, 9.266394576039918, 9.188443851724173, 9.108488028893724, 9.03335615924455, 8.959144285920129, 8.890484423886853, 8.82290673703953, 8.759531166716267, 8.699602141353893, 8.634117335617855, 8.574815782968884, 8.514661145635676, 8.45459597004478, 8.39894266417658, 8.341790584698503, 8.284139869774117, 8.230771171252849, 8.179119771816255, 8.129311288513321, 8.076902046445614, 8.025145316499719, 7.974129183042525, 7.921543423690224, 7.8726102819149695]\n"
     ]
    },
    {
     "name": "stderr",
     "output_type": "stream",
     "text": [
      "\n"
     ]
    },
    {
     "data": {
      "image/png": "[encoded data removed]",
      "text/plain": [
       "<Figure size 640x480 with 1 Axes>"
      ]
     },
     "metadata": {},
     "output_type": "display_data"
    }
   ],
   "source": [
    "epochs_2 = 100\n",
    "\n",
    "learningRate_2 = 0.00001\n",
    "\n",
    "#----------------------------------------\n",
    "\n",
    "sb = SonarBrain(len(X_2[0]), 64, 64, len(Y_2[0]))\n",
    "\n",
    "print(sb)\n",
    "\n",
    "#----------------------------------------\n",
    "\n",
    "losses = []\n",
    "\n",
    "# Take binary cross entropy as loss function (one output interpreted as binary)\n",
    "lossFunction_2 = nn.MSELoss()\n",
    "\n",
    "# Use stochastic gradient descent as optimizer, use weights and biases of model\n",
    "gradientDescent_2 = torch.optim.SGD(sb.parameters(), lr=learningRate_2)\n",
    "\n",
    "#----------------------------------------\n",
    "\n",
    "for j in tqdm(range(epochs_2)):\n",
    "\n",
    "    losses_epoch = []\n",
    "    for x, y in zip(X_2, Y_2):\n",
    "    \n",
    "        # Reset the gradient delta's (dw, db)\n",
    "        gradientDescent_2.zero_grad()\n",
    "\n",
    "        # Forward step\n",
    "        yhat = sb(x)\n",
    "\n",
    "        # Compute loss\n",
    "        loss = lossFunction_2(yhat, y)\n",
    "        \n",
    "        # Keep track of loss\n",
    "        losses_epoch.append(loss.item())\n",
    "\n",
    "        # Apply gradient descent (via backpropagation)\n",
    "        loss.backward()\n",
    "\n",
    "        # Use w += -step * dw * learnRate\n",
    "        gradientDescent_2.step()\n",
    "\n",
    "    losses.append(sum(losses_epoch)/len(losses_epoch))\n",
    "\n",
    "print(losses)\n",
    "\n",
    "#----------------------------------------\n",
    "\n",
    "fig, ax = plt.subplots()\n",
    "ax.set(xlabel='Epoch', ylabel='Cost', title=\"Training Cost\")\n",
    "\n",
    "plt.plot([x for x in range(len(losses))], losses, 'red')\n",
    "plt.show()\n",
    "\n",
    "#----------------------------------------"
   ]
  },
  {
   "cell_type": "code",
   "execution_count": 20,
   "metadata": {},
   "outputs": [],
   "source": [
    "save_path = \"C:/Users/nilsm/workspace/MakeAIWork2/project/simpylc/pickle/SonarBrain.pkl\"\n",
    "\n",
    "pickle.dump(sb.sb_model, open(save_path, 'wb'))"
   ]
  }
 ],
 "metadata": {
  "kernelspec": {
   "display_name": "env",
   "language": "python",
   "name": "python3"
  },
  "language_info": {
   "codemirror_mode": {
    "name": "ipython",
    "version": 3
   },
   "file_extension": ".py",
   "mimetype": "text/x-python",
   "name": "python",
   "nbconvert_exporter": "python",
   "pygments_lexer": "ipython3",
   "version": "3.10.11"
  },
  "orig_nbformat": 4
 },
 "nbformat": 4,
 "nbformat_minor": 2
}
