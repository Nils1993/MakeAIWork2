{
 "cells": [
  {
   "cell_type": "code",
   "execution_count": 13,
   "metadata": {},
   "outputs": [],
   "source": [
    "import os\n",
    "import torch\n",
    "from torch import nn\n",
    "from torch import optim\n",
    "from torch.utils.data import DataLoader\n",
    "import matplotlib.pyplot as plt\n",
    "import pandas as pd\n",
    "import numpy as np\n",
    "import pickle\n",
    "from tqdm import tqdm\n"
   ]
  },
  {
   "cell_type": "code",
   "execution_count": 4,
   "metadata": {},
   "outputs": [],
   "source": [
    "class LidarBrain(nn.Module):\n",
    "    \n",
    "    def __init__(self, inputs_size, hidden1_size, hidden2_size, hidden3_size, hidden4_size, hidden5_size, outputs_size):\n",
    "        super().__init__()\n",
    "\n",
    "        self.lb_model = nn.Sequential(\n",
    "            nn.Linear(inputs_size, hidden1_size),\n",
    "            nn.ReLU(),\n",
    "            nn.Linear(hidden1_size, hidden2_size),\n",
    "            nn.ReLU(),\n",
    "            nn.Linear(hidden2_size, hidden3_size),\n",
    "            nn.ReLU(),\n",
    "            nn.Linear(hidden3_size, hidden4_size),\n",
    "            nn.ReLU(),\n",
    "            nn.Linear(hidden4_size, hidden5_size),\n",
    "            nn.ReLU(),\n",
    "            nn.Linear(hidden5_size, outputs_size)\n",
    "            # nn.ReLU(),\n",
    "            # nn.Linear(hidden4_size, outputs_size)\n",
    "        )\n",
    "\n",
    "    def forward(self, x):\n",
    "\n",
    "        return self.lb_model(x)"
   ]
  },
  {
   "cell_type": "code",
   "execution_count": 5,
   "metadata": {},
   "outputs": [
    {
     "name": "stdout",
     "output_type": "stream",
     "text": [
      "tensor([[ 7.4593,  6.8660,  8.4048,  ...,  4.3179,  5.5356,  1.4650],\n",
      "        [ 7.4592,  6.8659,  8.4047,  ...,  4.3179,  5.5356,  1.4650],\n",
      "        [ 7.4592,  6.8659,  8.4047,  ...,  4.3179,  5.5356,  1.4650],\n",
      "        ...,\n",
      "        [ 7.1591,  3.1682,  1.1354,  ...,  1.1064, 20.0000, 20.0000],\n",
      "        [ 7.1591,  3.1682,  1.1354,  ...,  1.1064, 20.0000, 20.0000],\n",
      "        [ 7.1591,  3.1682,  1.1354,  ...,  1.1064, 20.0000, 20.0000]])\n",
      "torch.FloatTensor\n",
      "        0       1       2        3        4        5       6       7        8  \\\n",
      "0  7.4593  6.8660  8.4048  10.2781  12.9475   9.7540  5.7571  5.8859   3.9555   \n",
      "1  7.4592  6.8659  8.4047  10.2780  12.9474   9.7540  5.7570  5.8859   3.9554   \n",
      "2  7.4592  6.8659  8.4047  10.2780  12.9474   9.7540  5.7570  5.8859   3.9554   \n",
      "3  7.4566  6.8634  8.4025  10.2759  12.9456  11.2519  5.7557  5.8850  20.0000   \n",
      "4  7.4507  6.8577  8.3973  10.2711  12.9414  11.2484  5.7526  5.8828  20.0000   \n",
      "\n",
      "      9    10      11      12      13      14      15    16        17  \n",
      "0  20.0  20.0  5.2578  2.7651  4.3179  5.5356  1.4650 -32.0  0.966667  \n",
      "1  20.0  20.0  5.2578  2.7651  4.3179  5.5356  1.4650 -32.0  0.966667  \n",
      "2  20.0  20.0  5.2578  2.7651  4.3179  5.5356  1.4650 -32.0  0.966667  \n",
      "3  20.0  20.0  5.2556  2.7626  4.3154  5.5329  1.4623 -32.0  0.966667  \n",
      "4  20.0  20.0  5.2504  2.7570  4.3095  5.5268  4.8017 -31.0  0.983333  \n"
     ]
    }
   ],
   "source": [
    "load_path = \"C:/Users/nilsm/workspace/MakeAIWork2/project/simpylc/data/data_3rounds\"\n",
    "\n",
    "data_file = pd.read_table(load_path, sep = \",\", index_col = 0)\n",
    "\n",
    "\n",
    "# Create X data and Y data by converting them to torch.tensor\n",
    "X = torch.Tensor(np.array(data_file.iloc[:, :-2], copy=False))\n",
    "\n",
    "# We decided to leave out the velocity for now.\n",
    "Y = torch.Tensor(np.array(data_file.iloc[:, 16:17], copy=False))\n",
    "\n",
    "print(X)\n",
    "print(Y[0].type())\n",
    "print(data_file.head())"
   ]
  },
  {
   "cell_type": "code",
   "execution_count": 33,
   "metadata": {},
   "outputs": [
    {
     "name": "stdout",
     "output_type": "stream",
     "text": [
      "LidarBrain(\n",
      "  (lb_model): Sequential(\n",
      "    (0): Linear(in_features=16, out_features=128, bias=True)\n",
      "    (1): ReLU()\n",
      "    (2): Linear(in_features=128, out_features=128, bias=True)\n",
      "    (3): ReLU()\n",
      "    (4): Linear(in_features=128, out_features=128, bias=True)\n",
      "    (5): ReLU()\n",
      "    (6): Linear(in_features=128, out_features=128, bias=True)\n",
      "    (7): ReLU()\n",
      "    (8): Linear(in_features=128, out_features=128, bias=True)\n",
      "    (9): ReLU()\n",
      "    (10): Linear(in_features=128, out_features=1, bias=True)\n",
      "  )\n",
      ")\n"
     ]
    },
    {
     "name": "stderr",
     "output_type": "stream",
     "text": [
      "100%|██████████| 200/200 [01:35<00:00,  2.10it/s]"
     ]
    },
    {
     "name": "stdout",
     "output_type": "stream",
     "text": [
      "[173.64642634496064, 127.24428965225371, 110.43625428899382, 103.8925773372233, 98.45846812815125, 93.89541223461538, 89.1555653471596, 86.04071189300204, 80.76411287922035, 78.1962252497436, 74.77000643386992, 71.85120866597292, 68.93954124460163, 64.87345556046806, 62.37820013190358, 59.43649350909542, 57.529937468276586, 52.9990024941105, 49.17179039173998, 46.173659013706455, 45.38027741089019, 41.100961014006295, 38.43385525583984, 34.99556374834262, 32.005302139589375, 31.765526923697227, 29.290849958215034, 27.653322682939987, 24.88312677929463, 23.633022502212828, 22.927487136592447, 19.189107459297713, 20.27094742033638, 16.93581903217801, 16.800099830267207, 14.233843320999183, 14.398249603763489, 13.899927971140292, 12.47094230398269, 11.566981940691324, 11.877109745980258, 10.010176915416187, 9.45471511659755, 9.1449243978525, 8.416488854003473, 7.960044922044216, 8.228623732302346, 8.176268821978427, 6.66969425967389, 6.509315826250592, 6.866304489774685, 6.6955356343721535, 6.156994401579111, 5.586876424359043, 5.555470580372138, 5.3801263810152085, 5.366662727909581, 5.33904929290235, 4.900711791889805, 4.620395458953281, 4.405774582569927, 4.684813804880052, 4.629403616573891, 4.096916568237792, 4.239711569211118, 3.551970569028058, 4.1533387363786485, 3.456243191929034, 3.8824262902821984, 4.05974740050659, 3.523086986354521, 3.668106722843576, 4.198434294810589, 3.0187562743338865, 3.015877176142829, 2.927057247660743, 2.637542359486489, 2.627832451290923, 2.6755531899201466, 4.129136611346459, 3.8199492339822454, 3.3916035827182633, 2.663791563665535, 2.5566686396570377, 3.2310325836329525, 2.9553090329494913, 2.448485421879628, 2.255128277965616, 2.3483520504938915, 3.145827784038206, 2.5761365166478316, 2.573863200680399, 2.6574267070466435, 2.562547106088452, 2.32477140616233, 2.081845818409626, 2.023221045969495, 1.8899411011642775, 2.1527132238326208, 2.2186590452672945, 2.131644266677898, 1.8840771434647188, 1.9529937305163674, 1.845131546495923, 1.9046023362732787, 1.8017125075634859, 1.7221960191194627, 1.799649694301262, 1.6760248250622398, 1.78332166893641, 1.7227985506088548, 1.768858055515626, 1.6802939818523988, 1.7218686716101517, 1.6904189364751339, 1.6568832486371694, 1.6422620283413834, 1.577297460532212, 1.5970772843711656, 1.5916262475355245, 1.4590106937982452, 1.6398503807027107, 1.5485040487399395, 1.525931754351314, 1.5366725531919576, 1.5282171329790746, 1.5314866807274743, 1.5506687687032266, 1.5374104603532532, 1.5347367763948843, 1.5809479590734952, 1.5447610431011936, 1.493358722841645, 1.5110635133108372, 1.4966395900216303, 1.4900282400828706, 1.4204045096653, 1.4397091822824617, 1.4017256680676051, 1.4641756003141166, 1.3880108777233668, 1.460945461271238, 1.4617267759224293, 1.4600879123238162, 1.3383808314252208, 1.3596454035809216, 1.3906218398429053, 1.394051423070445, 1.3180122121161306, 1.3709578214890914, 1.3627954931637165, 1.4068053002741416, 1.3542576679741412, 1.2750157916299985, 1.3721992328289014, 1.3952105673507715, 1.3759103608178809, 1.3669322166984408, 1.3300999805153482, 1.3230955098231674, 1.5182811348415748, 1.3870611758624938, 1.3209196538266321, 1.3274227621896604, 1.3368147695899957, 1.3228714430397357, 1.2342286682419228, 1.3309946572537688, 1.3305320390916724, 1.3596106796094012, 1.3587305194903794, 1.2854419471936718, 1.3106853161340442, 1.298934115737558, 1.2821954294491122, 1.2967517497554926, 1.2940712851614766, 1.256266206939877, 1.2376292546688918, 1.3762081065039276, 1.3015318797830915, 1.2523425969389632, 1.315037977105936, 1.2427000169592277, 1.3454709809206826, 1.2736196164078788, 1.2247278288036407, 1.2797973444889008, 1.2691453956363807, 1.2236098604236043, 1.2738964194598539, 1.1670105192906577, 1.2301575137194891, 1.267933184721657, 1.262809089353497, 1.264068735522731, 1.2477620025100575, 1.2344073256696195, 1.2578123532102312, 1.205698314883837]\n"
     ]
    },
    {
     "name": "stderr",
     "output_type": "stream",
     "text": [
      "\n"
     ]
    },
    {
     "data": {
      "image/png": "[encoded data removed]",
      "text/plain": [
       "<Figure size 640x480 with 1 Axes>"
      ]
     },
     "metadata": {},
     "output_type": "display_data"
    }
   ],
   "source": [
    "epochs = 200\n",
    "\n",
    "learningRate = 0.000095\n",
    "\n",
    "#----------------------------------------\n",
    "\n",
    "lb = LidarBrain(len(X[0]), 128, 128, 128, 128, 128, len(Y[0]))\n",
    "\n",
    "print(lb)\n",
    "\n",
    "#----------------------------------------\n",
    "\n",
    "losses = []\n",
    "\n",
    "# Take binary cross entropy as loss function (one output interpreted as binary)\n",
    "lossFunction = nn.MSELoss()\n",
    "\n",
    "# Use stochastic gradient descent as optimizer, use weights and biases of model\n",
    "gradientDescent = torch.optim.SGD(lb.parameters(), lr=learningRate)\n",
    "\n",
    "#----------------------------------------\n",
    "\n",
    "loader = DataLoader(list(zip(X, Y)), shuffle=True, batch_size=10)\n",
    "\n",
    "for i in tqdm(range(epochs)):\n",
    "\n",
    "    losses_epoch = []\n",
    "    for x, y in loader:\n",
    "    \n",
    "        # Reset the gradient delta's (dw, db)\n",
    "        gradientDescent.zero_grad()\n",
    "\n",
    "        # Forward step\n",
    "        yhat = lb(x)\n",
    "\n",
    "        # Compute loss\n",
    "        loss = lossFunction(yhat, y)\n",
    "        \n",
    "        # Keep track of loss\n",
    "        losses_epoch.append(loss.item())\n",
    "\n",
    "        # Apply gradient descent (via backpropagation)\n",
    "        loss.backward()\n",
    "\n",
    "        # Use w += -step * dw * learnRate\n",
    "        gradientDescent.step()\n",
    "\n",
    "    losses.append(sum(losses_epoch)/len(losses_epoch))\n",
    "\n",
    "print(losses)\n",
    "\n",
    "#----------------------------------------\n",
    "\n",
    "fig, ax = plt.subplots()\n",
    "ax.set(xlabel='Epoch', ylabel='Cost', title=\"Training Cost\")\n",
    "\n",
    "plt.plot([x for x in range(len(losses))], losses, 'red')\n",
    "plt.show()\n",
    "\n",
    "#----------------------------------------"
   ]
  },
  {
   "cell_type": "code",
   "execution_count": 34,
   "metadata": {},
   "outputs": [],
   "source": [
    "save_path = \"C:/Users/nilsm/workspace/MakeAIWork2/project/simpylc/pickle/LidarBrain.pkl\"\n",
    "\n",
    "pickle.dump(lb.lb_model, open(save_path, 'wb'))"
   ]
  },
  {
   "attachments": {},
   "cell_type": "markdown",
   "metadata": {},
   "source": [
    "## After trying lots and lots of different things my conclusion is that Lidar is to unstable on THIS track to function in a safe way.\n",
    "\n",
    "Things I've tried:\n",
    "- Different Epochs\n",
    "- Different learning rates\n",
    "- Different data sets\n",
    "- Different batch sizes\n",
    "- More/less hiddenlayers\n",
    "- More/less neurons\n",
    "- With/without activation function.\n",
    "- Different max range on the scanner\n"
   ]
  },
  {
   "attachments": {},
   "cell_type": "markdown",
   "metadata": {},
   "source": [
    "# Now with Sonar"
   ]
  },
  {
   "cell_type": "code",
   "execution_count": 17,
   "metadata": {},
   "outputs": [],
   "source": [
    "class SonarBrain(nn.Module):\n",
    "    \n",
    "    def __init__(self, inputs_size, hidden1_size, hidden2_size, outputs_size):\n",
    "        super().__init__()\n",
    "\n",
    "        self.sb_model = nn.Sequential(\n",
    "            nn.Linear(inputs_size, hidden1_size),\n",
    "            nn.ReLU(),\n",
    "            nn.Linear(hidden1_size, hidden2_size),\n",
    "            nn.ReLU(),\n",
    "            nn.Linear(hidden2_size, outputs_size)\n",
    "            # nn.ReLU(),\n",
    "            # nn.Linear(hidden3_size, outputs_size)\n",
    "            # nn.Linear(hidden2_size, hidden3_size),\n",
    "            # nn.ReLU(),\n",
    "            # nn.Linear(hidden3_size, hidden4_size),\n",
    "            # nn.ReLU(),\n",
    "            # nn.Linear(hidden4_size, outputs_size)\n",
    "        )\n",
    "\n",
    "    def forward(self, x):\n",
    "\n",
    "        return self.sb_model(x)"
   ]
  },
  {
   "cell_type": "code",
   "execution_count": 6,
   "metadata": {},
   "outputs": [
    {
     "name": "stdout",
     "output_type": "stream",
     "text": [
      "tensor([[1.4683, 1.2854, 1.7757],\n",
      "        [1.4683, 1.2854, 1.7757],\n",
      "        [1.4683, 1.2854, 1.7757],\n",
      "        ...,\n",
      "        [2.0547, 1.3089, 0.9240],\n",
      "        [2.0547, 1.3089, 0.9240],\n",
      "        [1.9351, 1.2385, 1.3189]])\n",
      "tensor([[-22.],\n",
      "        [-22.],\n",
      "        [-22.],\n",
      "        ...,\n",
      "        [  0.],\n",
      "        [  0.],\n",
      "        [  0.]])\n",
      "        0       1       2     3         4\n",
      "0  1.4683  1.2854  1.7757 -22.0  1.133333\n",
      "1  1.4683  1.2854  1.7757 -22.0  1.133333\n",
      "2  1.4683  1.2854  1.7757 -22.0  1.133333\n",
      "3  1.4683  1.2854  1.7757 -22.0  1.133333\n",
      "4  1.4683  1.2854  1.7757 -22.0  1.133333\n"
     ]
    }
   ],
   "source": [
    "load_path = \"C:/Users/nilsm/workspace/MakeAIWork2/project/simpylc/data/sonar_data_3r\"\n",
    "\n",
    "data_file_2 = pd.read_table(load_path, sep = \",\", index_col = 0)\n",
    "\n",
    "\n",
    "# Create X data and Y data by converting them to torch.tensor\n",
    "X_2 = torch.Tensor(np.array(data_file_2.iloc[:, :-2], copy=False))\n",
    "\n",
    "# We decided to leave out the velocity for now.\n",
    "Y_2 = torch.Tensor(np.array(data_file_2.iloc[:, 3:4], copy=False))\n",
    "\n",
    "print(X_2)\n",
    "print(Y_2)\n",
    "print(data_file_2.head())"
   ]
  },
  {
   "cell_type": "code",
   "execution_count": 19,
   "metadata": {},
   "outputs": [
    {
     "name": "stdout",
     "output_type": "stream",
     "text": [
      "SonarBrain(\n",
      "  (sb_model): Sequential(\n",
      "    (0): Linear(in_features=3, out_features=64, bias=True)\n",
      "    (1): ReLU()\n",
      "    (2): Linear(in_features=64, out_features=64, bias=True)\n",
      "    (3): ReLU()\n",
      "    (4): Linear(in_features=64, out_features=1, bias=True)\n",
      "  )\n",
      ")\n"
     ]
    },
    {
     "name": "stderr",
     "output_type": "stream",
     "text": [
      "100%|██████████| 100/100 [02:38<00:00,  1.59s/it]"
     ]
    },
    {
     "name": "stdout",
     "output_type": "stream",
     "text": [
      "[101.08351703035446, 93.30143506276922, 89.23353503242498, 84.68873217313359, 77.90589529687755, 69.52773143077076, 61.66650464771869, 56.26207986478088, 53.12651391835775, 50.9657149074031, 49.26622901599706, 47.80608882060305, 46.48572221798609, 45.22334813470034, 44.01777006966879, 42.80838579616256, 41.589000103468116, 40.36423455561029, 39.12238005304777, 37.83877802420151, 36.46819889456225, 35.04200163969711, 33.60746056988801, 32.1917443834692, 30.81732595724254, 29.471635648663643, 28.1835176196524, 26.936545367237777, 25.757819909324898, 24.630478621782295, 23.576431370868423, 22.599137016067665, 21.675457305317742, 20.81059915968459, 20.00476267175091, 19.25624018832883, 18.579553433708686, 17.973586533625554, 17.41536825352564, 16.907371767799855, 16.4544214105162, 16.03453662702508, 15.645007790311912, 15.283910681080371, 14.938122899191034, 14.60954850788991, 14.303298108865388, 14.006972863244048, 13.719673435246976, 13.44322148661446, 13.182532913672675, 12.927264620161685, 12.687189862639467, 12.457381629271875, 12.240487588047332, 12.03224615509975, 11.827375604296622, 11.627612506988843, 11.440251488244623, 11.259426949224626, 11.087729033066308, 10.921766822911044, 10.770482547645647, 10.630509871146835, 10.493194346544216, 10.364661013301605, 10.24391944357712, 10.128636438728984, 10.014091718087359, 9.911284278112527, 9.808817758978025, 9.71149875782277, 9.614742835344048, 9.523708205399567, 9.434849095778365, 9.348356219161898, 9.266394576039918, 9.188443851724173, 9.108488028893724, 9.03335615924455, 8.959144285920129, 8.890484423886853, 8.82290673703953, 8.759531166716267, 8.699602141353893, 8.634117335617855, 8.574815782968884, 8.514661145635676, 8.45459597004478, 8.39894266417658, 8.341790584698503, 8.284139869774117, 8.230771171252849, 8.179119771816255, 8.129311288513321, 8.076902046445614, 8.025145316499719, 7.974129183042525, 7.921543423690224, 7.8726102819149695]\n"
     ]
    },
    {
     "name": "stderr",
     "output_type": "stream",
     "text": [
      "\n"
     ]
    },
    {
     "data": {
      "image/png": "[encoded data removed]",
      "text/plain": [
       "<Figure size 640x480 with 1 Axes>"
      ]
     },
     "metadata": {},
     "output_type": "display_data"
    }
   ],
   "source": [
    "epochs_2 = 100\n",
    "\n",
    "learningRate_2 = 0.00001\n",
    "\n",
    "#----------------------------------------\n",
    "\n",
    "sb = SonarBrain(len(X_2[0]), 64, 64, len(Y_2[0]))\n",
    "\n",
    "print(sb)\n",
    "\n",
    "#----------------------------------------\n",
    "\n",
    "losses = []\n",
    "\n",
    "# Take binary cross entropy as loss function (one output interpreted as binary)\n",
    "lossFunction_2 = nn.MSELoss()\n",
    "\n",
    "# Use stochastic gradient descent as optimizer, use weights and biases of model\n",
    "gradientDescent_2 = torch.optim.SGD(sb.parameters(), lr=learningRate_2)\n",
    "\n",
    "#----------------------------------------\n",
    "\n",
    "for j in tqdm(range(epochs_2)):\n",
    "\n",
    "    losses_epoch = []\n",
    "    for x, y in zip(X_2, Y_2):\n",
    "    \n",
    "        # Reset the gradient delta's (dw, db)\n",
    "        gradientDescent_2.zero_grad()\n",
    "\n",
    "        # Forward step\n",
    "        yhat = sb(x)\n",
    "\n",
    "        # Compute loss\n",
    "        loss = lossFunction_2(yhat, y)\n",
    "        \n",
    "        # Keep track of loss\n",
    "        losses_epoch.append(loss.item())\n",
    "\n",
    "        # Apply gradient descent (via backpropagation)\n",
    "        loss.backward()\n",
    "\n",
    "        # Use w += -step * dw * learnRate\n",
    "        gradientDescent_2.step()\n",
    "\n",
    "    losses.append(sum(losses_epoch)/len(losses_epoch))\n",
    "\n",
    "print(losses)\n",
    "\n",
    "#----------------------------------------\n",
    "\n",
    "fig, ax = plt.subplots()\n",
    "ax.set(xlabel='Epoch', ylabel='Cost', title=\"Training Cost\")\n",
    "\n",
    "plt.plot([x for x in range(len(losses))], losses, 'red')\n",
    "plt.show()\n",
    "\n",
    "#----------------------------------------"
   ]
  },
  {
   "cell_type": "code",
   "execution_count": 20,
   "metadata": {},
   "outputs": [],
   "source": [
    "save_path = \"C:/Users/nilsm/workspace/MakeAIWork2/project/simpylc/pickle/SonarBrain.pkl\"\n",
    "\n",
    "pickle.dump(sb.sb_model, open(save_path, 'wb'))"
   ]
  }
 ],
 "metadata": {
  "kernelspec": {
   "display_name": "env",
   "language": "python",
   "name": "python3"
  },
  "language_info": {
   "codemirror_mode": {
    "name": "ipython",
    "version": 3
   },
   "file_extension": ".py",
   "mimetype": "text/x-python",
   "name": "python",
   "nbconvert_exporter": "python",
   "pygments_lexer": "ipython3",
   "version": "3.10.11"
  },
  "orig_nbformat": 4
 },
 "nbformat": 4,
 "nbformat_minor": 2
}
